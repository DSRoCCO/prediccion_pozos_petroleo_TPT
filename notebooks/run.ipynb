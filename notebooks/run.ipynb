{
 "cells": [
  {
   "cell_type": "markdown",
   "metadata": {},
   "source": [
    "### Descripción del proyecto\n",
    "Trabajas en la compañía de extracción de petróleo OilyGiant. Tu tarea es encontrar los mejores lugares donde abrir 200 pozos nuevos de petróleo.\n",
    "\n",
    "Para completar esta tarea, tendrás que realizar los siguientes pasos:\n",
    "\n",
    "Leer los archivos con los parámetros recogidos de pozos petrolíferos en la región seleccionada: calidad de crudo y volumen de reservas.\n",
    "Crear un modelo para predecir el volumen de reservas en pozos nuevos.\n",
    "Elegir los pozos petrolíferos que tienen los valores estimados más altos.\n",
    "Elegir la región con el beneficio total más alto para los pozos petrolíferos seleccionados.\n",
    "Tienes datos sobre muestras de crudo de tres regiones. Ya se conocen los parámetros de cada pozo petrolero de la región. Crea un modelo que ayude a elegir la región con el mayor margen de beneficio. Analiza los beneficios y riesgos potenciales utilizando la técnica bootstrapping.\n",
    "\n",
    "#### Condiciones:\n",
    "Solo se debe usar la regresión lineal para el entrenamiento del modelo.\n",
    "Al explorar la región, se lleva a cabo un estudio de 500 puntos con la selección de los mejores 200 puntos para el cálculo del beneficio.\n",
    "El presupuesto para el desarrollo de 200 pozos petroleros es de 100 millones de dólares.\n",
    "Un barril de materias primas genera 4.5 USD de ingresos. El ingreso de una unidad de producto es de 4500 dólares (el volumen de reservas está expresado en miles de barriles).\n",
    "Después de la evaluación de riesgo, mantén solo las regiones con riesgo de pérdidas inferior al 2.5%. De las que se ajustan a los criterios, se debe seleccionar la región con el beneficio promedio más alto.\n",
    "Los datos son sintéticos: los detalles del contrato y las características del pozo no se publican.\n",
    "\n",
    "#### Descripción de datos\n",
    "Los datos de exploración geológica de las tres regiones se almacenan en archivos:\n",
    "\n",
    "- geo_data_0.csv. Pozo 0\n",
    "- geo_data_1.csv. Pozo 1\n",
    "- geo_data_2.csv. Pozo 2\n",
    "\n",
    "- id — identificador único de pozo de petróleo\n",
    "- f0, f1, f2 — tres características de los puntos (su significado específico no es importante, pero las características en sí son significativas)\n",
    "- product — volumen de reservas en el pozo de petróleo (miles de barriles)."
   ]
  },
  {
   "cell_type": "code",
   "execution_count": 1,
   "metadata": {},
   "outputs": [],
   "source": [
    "# Importación de librerías estándar\n",
    "import numpy as np  \n",
    "import pandas as pd\n",
    "import os\n",
    "import sys\n",
    "from typing import Optional\n",
    "\n",
    "# Importación de bibliotecas para gráficos\n",
    "import matplotlib.pyplot as plt\n",
    "import seaborn as sns\n",
    "\n",
    "# Importación de funciones de scikit-learn\n",
    "from sklearn.model_selection import train_test_split\n",
    "from sklearn.linear_model import LinearRegression\n",
    "from sklearn.metrics import mean_squared_error, r2_score\n",
    "\n",
    "import missingno as msno"
   ]
  },
  {
   "cell_type": "code",
   "execution_count": 2,
   "metadata": {},
   "outputs": [],
   "source": [
    "# Agregamos el archivo util_functions.py   //archivo personal con funciones utiles//\n",
    "module_path = os.path.abspath(os.path.join('..', 'functions_RoCCO'))\n",
    "if module_path not in sys.path:\n",
    "    sys.path.insert(0, module_path)\n",
    "\n",
    "# Importa la función missing_case_summary\n",
    "from util_functions import *"
   ]
  },
  {
   "cell_type": "markdown",
   "metadata": {},
   "source": [
    "#### Carga de Datos"
   ]
  },
  {
   "cell_type": "code",
   "execution_count": 3,
   "metadata": {},
   "outputs": [],
   "source": [
    "#Cargamos los datos desde los archivos csv\n",
    "geo_data_0 = pd.read_csv('../datasets/geo_data_0.csv')\n",
    "geo_data_1 = pd.read_csv('../datasets/geo_data_1.csv')\n",
    "geo_data_2 = pd.read_csv('../datasets/geo_data_2.csv')"
   ]
  },
  {
   "cell_type": "code",
   "execution_count": 4,
   "metadata": {},
   "outputs": [
    {
     "name": "stdout",
     "output_type": "stream",
     "text": [
      "Estadísticas Globales:\n",
      "- Valores ausentes totales: 0\n",
      "- Porcentaje promedio de ausentes: 0.0%\n",
      "\n"
     ]
    },
    {
     "data": {
      "text/html": [
       "<div>\n",
       "<style scoped>\n",
       "    .dataframe tbody tr th:only-of-type {\n",
       "        vertical-align: middle;\n",
       "    }\n",
       "\n",
       "    .dataframe tbody tr th {\n",
       "        vertical-align: top;\n",
       "    }\n",
       "\n",
       "    .dataframe thead th {\n",
       "        text-align: right;\n",
       "    }\n",
       "</style>\n",
       "<table border=\"1\" class=\"dataframe\">\n",
       "  <thead>\n",
       "    <tr style=\"text-align: right;\">\n",
       "      <th></th>\n",
       "      <th>variable</th>\n",
       "      <th>n_missing</th>\n",
       "      <th>dtype</th>\n",
       "      <th>n_cases</th>\n",
       "      <th>complete_cases</th>\n",
       "      <th>pct_missing</th>\n",
       "      <th>n_unique_complete</th>\n",
       "      <th>max_value</th>\n",
       "      <th>min_value</th>\n",
       "      <th>std_dev</th>\n",
       "      <th>variance</th>\n",
       "      <th>median_value</th>\n",
       "      <th>mean_value</th>\n",
       "      <th>mode_value</th>\n",
       "      <th>q25</th>\n",
       "      <th>q75</th>\n",
       "    </tr>\n",
       "  </thead>\n",
       "  <tbody>\n",
       "    <tr>\n",
       "      <th>0</th>\n",
       "      <td>f0</td>\n",
       "      <td>0</td>\n",
       "      <td>float64</td>\n",
       "      <td>100000</td>\n",
       "      <td>100000</td>\n",
       "      <td>0.0</td>\n",
       "      <td>100000</td>\n",
       "      <td>2.36</td>\n",
       "      <td>-1.41</td>\n",
       "      <td>0.87</td>\n",
       "      <td>0.76</td>\n",
       "      <td>0.50</td>\n",
       "      <td>0.50</td>\n",
       "      <td>-1.408605</td>\n",
       "      <td>-0.07</td>\n",
       "      <td>1.07</td>\n",
       "    </tr>\n",
       "    <tr>\n",
       "      <th>1</th>\n",
       "      <td>f1</td>\n",
       "      <td>0</td>\n",
       "      <td>float64</td>\n",
       "      <td>100000</td>\n",
       "      <td>100000</td>\n",
       "      <td>0.0</td>\n",
       "      <td>100000</td>\n",
       "      <td>1.34</td>\n",
       "      <td>-0.85</td>\n",
       "      <td>0.50</td>\n",
       "      <td>0.25</td>\n",
       "      <td>0.25</td>\n",
       "      <td>0.25</td>\n",
       "      <td>-0.848218</td>\n",
       "      <td>-0.20</td>\n",
       "      <td>0.70</td>\n",
       "    </tr>\n",
       "    <tr>\n",
       "      <th>2</th>\n",
       "      <td>f2</td>\n",
       "      <td>0</td>\n",
       "      <td>float64</td>\n",
       "      <td>100000</td>\n",
       "      <td>100000</td>\n",
       "      <td>0.0</td>\n",
       "      <td>100000</td>\n",
       "      <td>16.00</td>\n",
       "      <td>-12.09</td>\n",
       "      <td>3.25</td>\n",
       "      <td>10.55</td>\n",
       "      <td>2.52</td>\n",
       "      <td>2.50</td>\n",
       "      <td>-12.088328</td>\n",
       "      <td>0.29</td>\n",
       "      <td>4.72</td>\n",
       "    </tr>\n",
       "    <tr>\n",
       "      <th>3</th>\n",
       "      <td>product</td>\n",
       "      <td>0</td>\n",
       "      <td>float64</td>\n",
       "      <td>100000</td>\n",
       "      <td>100000</td>\n",
       "      <td>0.0</td>\n",
       "      <td>100000</td>\n",
       "      <td>185.36</td>\n",
       "      <td>0.00</td>\n",
       "      <td>44.29</td>\n",
       "      <td>1961.49</td>\n",
       "      <td>91.85</td>\n",
       "      <td>92.50</td>\n",
       "      <td>0.000000</td>\n",
       "      <td>56.50</td>\n",
       "      <td>128.56</td>\n",
       "    </tr>\n",
       "  </tbody>\n",
       "</table>\n",
       "</div>"
      ],
      "text/plain": [
       "  variable  n_missing    dtype  n_cases  complete_cases  pct_missing  \\\n",
       "0       f0          0  float64   100000          100000          0.0   \n",
       "1       f1          0  float64   100000          100000          0.0   \n",
       "2       f2          0  float64   100000          100000          0.0   \n",
       "3  product          0  float64   100000          100000          0.0   \n",
       "\n",
       "   n_unique_complete  max_value  min_value  std_dev  variance  median_value  \\\n",
       "0             100000       2.36      -1.41     0.87      0.76          0.50   \n",
       "1             100000       1.34      -0.85     0.50      0.25          0.25   \n",
       "2             100000      16.00     -12.09     3.25     10.55          2.52   \n",
       "3             100000     185.36       0.00    44.29   1961.49         91.85   \n",
       "\n",
       "   mean_value  mode_value    q25     q75  \n",
       "0        0.50   -1.408605  -0.07    1.07  \n",
       "1        0.25   -0.848218  -0.20    0.70  \n",
       "2        2.50  -12.088328   0.29    4.72  \n",
       "3       92.50    0.000000  56.50  128.56  "
      ]
     },
     "execution_count": 4,
     "metadata": {},
     "output_type": "execute_result"
    }
   ],
   "source": [
    "# Resumen de \n",
    "missing_data_by_column(geo_data_0.drop('id',axis=1))"
   ]
  },
  {
   "cell_type": "code",
   "execution_count": 5,
   "metadata": {},
   "outputs": [
    {
     "data": {
      "text/html": [
       "<div>\n",
       "<style scoped>\n",
       "    .dataframe tbody tr th:only-of-type {\n",
       "        vertical-align: middle;\n",
       "    }\n",
       "\n",
       "    .dataframe tbody tr th {\n",
       "        vertical-align: top;\n",
       "    }\n",
       "\n",
       "    .dataframe thead th {\n",
       "        text-align: right;\n",
       "    }\n",
       "</style>\n",
       "<table border=\"1\" class=\"dataframe\">\n",
       "  <thead>\n",
       "    <tr style=\"text-align: right;\">\n",
       "      <th></th>\n",
       "      <th>id</th>\n",
       "      <th>f0</th>\n",
       "      <th>f1</th>\n",
       "      <th>f2</th>\n",
       "      <th>product</th>\n",
       "    </tr>\n",
       "  </thead>\n",
       "  <tbody>\n",
       "    <tr>\n",
       "      <th>19596</th>\n",
       "      <td>EEVdU</td>\n",
       "      <td>0.403205</td>\n",
       "      <td>-0.224067</td>\n",
       "      <td>4.919017</td>\n",
       "      <td>85.970869</td>\n",
       "    </tr>\n",
       "    <tr>\n",
       "      <th>79029</th>\n",
       "      <td>4AYT2</td>\n",
       "      <td>0.492083</td>\n",
       "      <td>-0.200906</td>\n",
       "      <td>1.963742</td>\n",
       "      <td>24.295981</td>\n",
       "    </tr>\n",
       "    <tr>\n",
       "      <th>79195</th>\n",
       "      <td>Rg9Mp</td>\n",
       "      <td>0.155156</td>\n",
       "      <td>0.169021</td>\n",
       "      <td>6.087141</td>\n",
       "      <td>127.433842</td>\n",
       "    </tr>\n",
       "    <tr>\n",
       "      <th>29267</th>\n",
       "      <td>ttID0</td>\n",
       "      <td>0.290876</td>\n",
       "      <td>-0.030859</td>\n",
       "      <td>2.776896</td>\n",
       "      <td>179.644260</td>\n",
       "    </tr>\n",
       "    <tr>\n",
       "      <th>20714</th>\n",
       "      <td>gN8r8</td>\n",
       "      <td>2.029223</td>\n",
       "      <td>0.260956</td>\n",
       "      <td>8.156438</td>\n",
       "      <td>131.819706</td>\n",
       "    </tr>\n",
       "    <tr>\n",
       "      <th>56038</th>\n",
       "      <td>X5G7G</td>\n",
       "      <td>0.090228</td>\n",
       "      <td>0.428226</td>\n",
       "      <td>6.859143</td>\n",
       "      <td>88.106361</td>\n",
       "    </tr>\n",
       "    <tr>\n",
       "      <th>32029</th>\n",
       "      <td>gjfs2</td>\n",
       "      <td>1.708081</td>\n",
       "      <td>-0.052035</td>\n",
       "      <td>-6.315913</td>\n",
       "      <td>45.350935</td>\n",
       "    </tr>\n",
       "    <tr>\n",
       "      <th>37224</th>\n",
       "      <td>F4ePB</td>\n",
       "      <td>1.949876</td>\n",
       "      <td>0.082295</td>\n",
       "      <td>1.203397</td>\n",
       "      <td>156.616749</td>\n",
       "    </tr>\n",
       "    <tr>\n",
       "      <th>70030</th>\n",
       "      <td>2OcA8</td>\n",
       "      <td>0.888728</td>\n",
       "      <td>-0.553285</td>\n",
       "      <td>6.042208</td>\n",
       "      <td>30.304691</td>\n",
       "    </tr>\n",
       "    <tr>\n",
       "      <th>81634</th>\n",
       "      <td>887yR</td>\n",
       "      <td>-0.053682</td>\n",
       "      <td>0.006911</td>\n",
       "      <td>2.769635</td>\n",
       "      <td>25.830588</td>\n",
       "    </tr>\n",
       "  </tbody>\n",
       "</table>\n",
       "</div>"
      ],
      "text/plain": [
       "          id        f0        f1        f2     product\n",
       "19596  EEVdU  0.403205 -0.224067  4.919017   85.970869\n",
       "79029  4AYT2  0.492083 -0.200906  1.963742   24.295981\n",
       "79195  Rg9Mp  0.155156  0.169021  6.087141  127.433842\n",
       "29267  ttID0  0.290876 -0.030859  2.776896  179.644260\n",
       "20714  gN8r8  2.029223  0.260956  8.156438  131.819706\n",
       "56038  X5G7G  0.090228  0.428226  6.859143   88.106361\n",
       "32029  gjfs2  1.708081 -0.052035 -6.315913   45.350935\n",
       "37224  F4ePB  1.949876  0.082295  1.203397  156.616749\n",
       "70030  2OcA8  0.888728 -0.553285  6.042208   30.304691\n",
       "81634  887yR -0.053682  0.006911  2.769635   25.830588"
      ]
     },
     "execution_count": 5,
     "metadata": {},
     "output_type": "execute_result"
    }
   ],
   "source": [
    "# Revisamos los datos\n",
    "geo_data_0.sample(10)"
   ]
  },
  {
   "cell_type": "code",
   "execution_count": 6,
   "metadata": {},
   "outputs": [
    {
     "name": "stdout",
     "output_type": "stream",
     "text": [
      "<class 'pandas.core.frame.DataFrame'>\n",
      "RangeIndex: 100000 entries, 0 to 99999\n",
      "Data columns (total 5 columns):\n",
      " #   Column   Non-Null Count   Dtype  \n",
      "---  ------   --------------   -----  \n",
      " 0   id       100000 non-null  object \n",
      " 1   f0       100000 non-null  float64\n",
      " 2   f1       100000 non-null  float64\n",
      " 3   f2       100000 non-null  float64\n",
      " 4   product  100000 non-null  float64\n",
      "dtypes: float64(4), object(1)\n",
      "memory usage: 3.8+ MB\n"
     ]
    }
   ],
   "source": [
    "# Revisamos las caracteristicas de los datos\n",
    "geo_data_0.info(show_counts=True)"
   ]
  },
  {
   "cell_type": "code",
   "execution_count": 7,
   "metadata": {},
   "outputs": [
    {
     "data": {
      "text/plain": [
       "False    100000\n",
       "Name: count, dtype: int64"
      ]
     },
     "execution_count": 7,
     "metadata": {},
     "output_type": "execute_result"
    }
   ],
   "source": [
    "# Revisamos si tenemos duplicados\n",
    "geo_data_0.duplicated().value_counts() "
   ]
  },
  {
   "cell_type": "code",
   "execution_count": 8,
   "metadata": {},
   "outputs": [
    {
     "name": "stdout",
     "output_type": "stream",
     "text": [
      "Estadísticas Globales:\n",
      "- Valores ausentes totales: 0\n",
      "- Porcentaje promedio de ausentes: 0.0%\n",
      "\n"
     ]
    },
    {
     "data": {
      "text/html": [
       "<div>\n",
       "<style scoped>\n",
       "    .dataframe tbody tr th:only-of-type {\n",
       "        vertical-align: middle;\n",
       "    }\n",
       "\n",
       "    .dataframe tbody tr th {\n",
       "        vertical-align: top;\n",
       "    }\n",
       "\n",
       "    .dataframe thead th {\n",
       "        text-align: right;\n",
       "    }\n",
       "</style>\n",
       "<table border=\"1\" class=\"dataframe\">\n",
       "  <thead>\n",
       "    <tr style=\"text-align: right;\">\n",
       "      <th></th>\n",
       "      <th>variable</th>\n",
       "      <th>n_missing</th>\n",
       "      <th>dtype</th>\n",
       "      <th>n_cases</th>\n",
       "      <th>complete_cases</th>\n",
       "      <th>pct_missing</th>\n",
       "      <th>n_unique_complete</th>\n",
       "      <th>max_value</th>\n",
       "      <th>min_value</th>\n",
       "      <th>std_dev</th>\n",
       "      <th>variance</th>\n",
       "      <th>median_value</th>\n",
       "      <th>mean_value</th>\n",
       "      <th>mode_value</th>\n",
       "      <th>q25</th>\n",
       "      <th>q75</th>\n",
       "    </tr>\n",
       "  </thead>\n",
       "  <tbody>\n",
       "    <tr>\n",
       "      <th>0</th>\n",
       "      <td>f0</td>\n",
       "      <td>0</td>\n",
       "      <td>float64</td>\n",
       "      <td>100000</td>\n",
       "      <td>100000</td>\n",
       "      <td>0.0</td>\n",
       "      <td>100000</td>\n",
       "      <td>29.42</td>\n",
       "      <td>-31.61</td>\n",
       "      <td>8.97</td>\n",
       "      <td>80.39</td>\n",
       "      <td>1.15</td>\n",
       "      <td>1.14</td>\n",
       "      <td>-31.609576</td>\n",
       "      <td>-6.30</td>\n",
       "      <td>8.62</td>\n",
       "    </tr>\n",
       "    <tr>\n",
       "      <th>1</th>\n",
       "      <td>f1</td>\n",
       "      <td>0</td>\n",
       "      <td>float64</td>\n",
       "      <td>100000</td>\n",
       "      <td>100000</td>\n",
       "      <td>0.0</td>\n",
       "      <td>100000</td>\n",
       "      <td>18.73</td>\n",
       "      <td>-26.36</td>\n",
       "      <td>5.12</td>\n",
       "      <td>26.21</td>\n",
       "      <td>-4.81</td>\n",
       "      <td>-4.80</td>\n",
       "      <td>-26.358598</td>\n",
       "      <td>-8.27</td>\n",
       "      <td>-1.33</td>\n",
       "    </tr>\n",
       "    <tr>\n",
       "      <th>2</th>\n",
       "      <td>f2</td>\n",
       "      <td>0</td>\n",
       "      <td>float64</td>\n",
       "      <td>100000</td>\n",
       "      <td>100000</td>\n",
       "      <td>0.0</td>\n",
       "      <td>100000</td>\n",
       "      <td>5.02</td>\n",
       "      <td>-0.02</td>\n",
       "      <td>1.70</td>\n",
       "      <td>2.90</td>\n",
       "      <td>2.01</td>\n",
       "      <td>2.49</td>\n",
       "      <td>-0.018144</td>\n",
       "      <td>1.00</td>\n",
       "      <td>4.00</td>\n",
       "    </tr>\n",
       "    <tr>\n",
       "      <th>3</th>\n",
       "      <td>product</td>\n",
       "      <td>0</td>\n",
       "      <td>float64</td>\n",
       "      <td>100000</td>\n",
       "      <td>100000</td>\n",
       "      <td>0.0</td>\n",
       "      <td>12</td>\n",
       "      <td>137.95</td>\n",
       "      <td>0.00</td>\n",
       "      <td>45.94</td>\n",
       "      <td>2110.89</td>\n",
       "      <td>57.09</td>\n",
       "      <td>68.83</td>\n",
       "      <td>53.906522</td>\n",
       "      <td>26.95</td>\n",
       "      <td>107.81</td>\n",
       "    </tr>\n",
       "  </tbody>\n",
       "</table>\n",
       "</div>"
      ],
      "text/plain": [
       "  variable  n_missing    dtype  n_cases  complete_cases  pct_missing  \\\n",
       "0       f0          0  float64   100000          100000          0.0   \n",
       "1       f1          0  float64   100000          100000          0.0   \n",
       "2       f2          0  float64   100000          100000          0.0   \n",
       "3  product          0  float64   100000          100000          0.0   \n",
       "\n",
       "   n_unique_complete  max_value  min_value  std_dev  variance  median_value  \\\n",
       "0             100000      29.42     -31.61     8.97     80.39          1.15   \n",
       "1             100000      18.73     -26.36     5.12     26.21         -4.81   \n",
       "2             100000       5.02      -0.02     1.70      2.90          2.01   \n",
       "3                 12     137.95       0.00    45.94   2110.89         57.09   \n",
       "\n",
       "   mean_value  mode_value    q25     q75  \n",
       "0        1.14  -31.609576  -6.30    8.62  \n",
       "1       -4.80  -26.358598  -8.27   -1.33  \n",
       "2        2.49   -0.018144   1.00    4.00  \n",
       "3       68.83   53.906522  26.95  107.81  "
      ]
     },
     "execution_count": 8,
     "metadata": {},
     "output_type": "execute_result"
    }
   ],
   "source": [
    "# Revisamos los datos\n",
    "missing_data_by_column(geo_data_1.drop('id',axis=1))"
   ]
  },
  {
   "cell_type": "code",
   "execution_count": 9,
   "metadata": {},
   "outputs": [
    {
     "name": "stdout",
     "output_type": "stream",
     "text": [
      "<class 'pandas.core.frame.DataFrame'>\n",
      "RangeIndex: 100000 entries, 0 to 99999\n",
      "Data columns (total 5 columns):\n",
      " #   Column   Non-Null Count   Dtype  \n",
      "---  ------   --------------   -----  \n",
      " 0   id       100000 non-null  object \n",
      " 1   f0       100000 non-null  float64\n",
      " 2   f1       100000 non-null  float64\n",
      " 3   f2       100000 non-null  float64\n",
      " 4   product  100000 non-null  float64\n",
      "dtypes: float64(4), object(1)\n",
      "memory usage: 3.8+ MB\n"
     ]
    }
   ],
   "source": [
    "# Revisamos las caracteristicas de los datos\n",
    "geo_data_1.info(show_counts=True)"
   ]
  },
  {
   "cell_type": "code",
   "execution_count": 10,
   "metadata": {},
   "outputs": [
    {
     "data": {
      "text/plain": [
       "False    100000\n",
       "Name: count, dtype: int64"
      ]
     },
     "execution_count": 10,
     "metadata": {},
     "output_type": "execute_result"
    }
   ],
   "source": [
    "# Revisamos si tenemos duplicados\n",
    "geo_data_1.duplicated().value_counts()"
   ]
  },
  {
   "cell_type": "code",
   "execution_count": 11,
   "metadata": {},
   "outputs": [
    {
     "name": "stdout",
     "output_type": "stream",
     "text": [
      "Estadísticas Globales:\n",
      "- Valores ausentes totales: 0\n",
      "- Porcentaje promedio de ausentes: 0.0%\n",
      "\n"
     ]
    },
    {
     "data": {
      "text/html": [
       "<div>\n",
       "<style scoped>\n",
       "    .dataframe tbody tr th:only-of-type {\n",
       "        vertical-align: middle;\n",
       "    }\n",
       "\n",
       "    .dataframe tbody tr th {\n",
       "        vertical-align: top;\n",
       "    }\n",
       "\n",
       "    .dataframe thead th {\n",
       "        text-align: right;\n",
       "    }\n",
       "</style>\n",
       "<table border=\"1\" class=\"dataframe\">\n",
       "  <thead>\n",
       "    <tr style=\"text-align: right;\">\n",
       "      <th></th>\n",
       "      <th>variable</th>\n",
       "      <th>n_missing</th>\n",
       "      <th>dtype</th>\n",
       "      <th>n_cases</th>\n",
       "      <th>complete_cases</th>\n",
       "      <th>pct_missing</th>\n",
       "      <th>n_unique_complete</th>\n",
       "      <th>max_value</th>\n",
       "      <th>min_value</th>\n",
       "      <th>std_dev</th>\n",
       "      <th>variance</th>\n",
       "      <th>median_value</th>\n",
       "      <th>mean_value</th>\n",
       "      <th>mode_value</th>\n",
       "      <th>q25</th>\n",
       "      <th>q75</th>\n",
       "    </tr>\n",
       "  </thead>\n",
       "  <tbody>\n",
       "    <tr>\n",
       "      <th>0</th>\n",
       "      <td>f0</td>\n",
       "      <td>0</td>\n",
       "      <td>float64</td>\n",
       "      <td>100000</td>\n",
       "      <td>100000</td>\n",
       "      <td>0.0</td>\n",
       "      <td>100000</td>\n",
       "      <td>7.24</td>\n",
       "      <td>-8.76</td>\n",
       "      <td>1.73</td>\n",
       "      <td>3.00</td>\n",
       "      <td>0.01</td>\n",
       "      <td>0.0</td>\n",
       "      <td>-8.760004</td>\n",
       "      <td>-1.16</td>\n",
       "      <td>1.16</td>\n",
       "    </tr>\n",
       "    <tr>\n",
       "      <th>1</th>\n",
       "      <td>f1</td>\n",
       "      <td>0</td>\n",
       "      <td>float64</td>\n",
       "      <td>100000</td>\n",
       "      <td>100000</td>\n",
       "      <td>0.0</td>\n",
       "      <td>100000</td>\n",
       "      <td>7.84</td>\n",
       "      <td>-7.08</td>\n",
       "      <td>1.73</td>\n",
       "      <td>2.99</td>\n",
       "      <td>-0.01</td>\n",
       "      <td>-0.0</td>\n",
       "      <td>-7.084020</td>\n",
       "      <td>-1.17</td>\n",
       "      <td>1.16</td>\n",
       "    </tr>\n",
       "    <tr>\n",
       "      <th>2</th>\n",
       "      <td>f2</td>\n",
       "      <td>0</td>\n",
       "      <td>float64</td>\n",
       "      <td>100000</td>\n",
       "      <td>100000</td>\n",
       "      <td>0.0</td>\n",
       "      <td>100000</td>\n",
       "      <td>16.74</td>\n",
       "      <td>-11.97</td>\n",
       "      <td>3.47</td>\n",
       "      <td>12.06</td>\n",
       "      <td>2.48</td>\n",
       "      <td>2.5</td>\n",
       "      <td>-11.970335</td>\n",
       "      <td>0.13</td>\n",
       "      <td>4.86</td>\n",
       "    </tr>\n",
       "    <tr>\n",
       "      <th>3</th>\n",
       "      <td>product</td>\n",
       "      <td>0</td>\n",
       "      <td>float64</td>\n",
       "      <td>100000</td>\n",
       "      <td>100000</td>\n",
       "      <td>0.0</td>\n",
       "      <td>100000</td>\n",
       "      <td>190.03</td>\n",
       "      <td>0.00</td>\n",
       "      <td>44.75</td>\n",
       "      <td>2002.56</td>\n",
       "      <td>94.93</td>\n",
       "      <td>95.0</td>\n",
       "      <td>0.000000</td>\n",
       "      <td>59.45</td>\n",
       "      <td>130.60</td>\n",
       "    </tr>\n",
       "  </tbody>\n",
       "</table>\n",
       "</div>"
      ],
      "text/plain": [
       "  variable  n_missing    dtype  n_cases  complete_cases  pct_missing  \\\n",
       "0       f0          0  float64   100000          100000          0.0   \n",
       "1       f1          0  float64   100000          100000          0.0   \n",
       "2       f2          0  float64   100000          100000          0.0   \n",
       "3  product          0  float64   100000          100000          0.0   \n",
       "\n",
       "   n_unique_complete  max_value  min_value  std_dev  variance  median_value  \\\n",
       "0             100000       7.24      -8.76     1.73      3.00          0.01   \n",
       "1             100000       7.84      -7.08     1.73      2.99         -0.01   \n",
       "2             100000      16.74     -11.97     3.47     12.06          2.48   \n",
       "3             100000     190.03       0.00    44.75   2002.56         94.93   \n",
       "\n",
       "   mean_value  mode_value    q25     q75  \n",
       "0         0.0   -8.760004  -1.16    1.16  \n",
       "1        -0.0   -7.084020  -1.17    1.16  \n",
       "2         2.5  -11.970335   0.13    4.86  \n",
       "3        95.0    0.000000  59.45  130.60  "
      ]
     },
     "execution_count": 11,
     "metadata": {},
     "output_type": "execute_result"
    }
   ],
   "source": [
    "# Revisamos los datos\n",
    "missing_data_by_column(geo_data_2.drop('id',axis=1))"
   ]
  },
  {
   "cell_type": "code",
   "execution_count": 12,
   "metadata": {},
   "outputs": [
    {
     "name": "stdout",
     "output_type": "stream",
     "text": [
      "<class 'pandas.core.frame.DataFrame'>\n",
      "RangeIndex: 100000 entries, 0 to 99999\n",
      "Data columns (total 5 columns):\n",
      " #   Column   Non-Null Count   Dtype  \n",
      "---  ------   --------------   -----  \n",
      " 0   id       100000 non-null  object \n",
      " 1   f0       100000 non-null  float64\n",
      " 2   f1       100000 non-null  float64\n",
      " 3   f2       100000 non-null  float64\n",
      " 4   product  100000 non-null  float64\n",
      "dtypes: float64(4), object(1)\n",
      "memory usage: 3.8+ MB\n"
     ]
    }
   ],
   "source": [
    "# Revisamos las caracteristicas de los datos\n",
    "geo_data_2.info(show_counts=True)"
   ]
  },
  {
   "cell_type": "code",
   "execution_count": 13,
   "metadata": {},
   "outputs": [
    {
     "data": {
      "text/plain": [
       "False    100000\n",
       "Name: count, dtype: int64"
      ]
     },
     "execution_count": 13,
     "metadata": {},
     "output_type": "execute_result"
    }
   ],
   "source": [
    "# Revisamos si tenemos duplicados\n",
    "geo_data_2.duplicated().value_counts()"
   ]
  },
  {
   "cell_type": "markdown",
   "metadata": {},
   "source": [
    "#### A continuacion entrenaremos y probaremos el modelo para cada región en este caso geo_data_0.csv:"
   ]
  },
  {
   "cell_type": "code",
   "execution_count": 14,
   "metadata": {},
   "outputs": [
    {
     "data": {
      "text/html": [
       "<div>\n",
       "<style scoped>\n",
       "    .dataframe tbody tr th:only-of-type {\n",
       "        vertical-align: middle;\n",
       "    }\n",
       "\n",
       "    .dataframe tbody tr th {\n",
       "        vertical-align: top;\n",
       "    }\n",
       "\n",
       "    .dataframe thead th {\n",
       "        text-align: right;\n",
       "    }\n",
       "</style>\n",
       "<table border=\"1\" class=\"dataframe\">\n",
       "  <thead>\n",
       "    <tr style=\"text-align: right;\">\n",
       "      <th></th>\n",
       "      <th>max</th>\n",
       "      <th>min</th>\n",
       "      <th>average</th>\n",
       "    </tr>\n",
       "  </thead>\n",
       "  <tbody>\n",
       "    <tr>\n",
       "      <th>f0</th>\n",
       "      <td>2.362331</td>\n",
       "      <td>-1.408605</td>\n",
       "      <td>0.500419</td>\n",
       "    </tr>\n",
       "    <tr>\n",
       "      <th>f1</th>\n",
       "      <td>1.343769</td>\n",
       "      <td>-0.848218</td>\n",
       "      <td>0.250143</td>\n",
       "    </tr>\n",
       "    <tr>\n",
       "      <th>f2</th>\n",
       "      <td>16.003790</td>\n",
       "      <td>-12.088328</td>\n",
       "      <td>2.502647</td>\n",
       "    </tr>\n",
       "    <tr>\n",
       "      <th>product</th>\n",
       "      <td>185.364347</td>\n",
       "      <td>0.000000</td>\n",
       "      <td>92.500000</td>\n",
       "    </tr>\n",
       "  </tbody>\n",
       "</table>\n",
       "</div>"
      ],
      "text/plain": [
       "                max        min    average\n",
       "f0         2.362331  -1.408605   0.500419\n",
       "f1         1.343769  -0.848218   0.250143\n",
       "f2        16.003790 -12.088328   2.502647\n",
       "product  185.364347   0.000000  92.500000"
      ]
     },
     "execution_count": 14,
     "metadata": {},
     "output_type": "execute_result"
    }
   ],
   "source": [
    "#Valores maximos, minimosy promedio\n",
    "geo_data_0.select_dtypes(float).agg(['max','min','average']).T"
   ]
  },
  {
   "cell_type": "code",
   "execution_count": 15,
   "metadata": {},
   "outputs": [
    {
     "data": {
      "image/png": "[encoded data removed]",
      "text/plain": [
       "<Figure size 1000x800 with 2 Axes>"
      ]
     },
     "metadata": {},
     "output_type": "display_data"
    }
   ],
   "source": [
    "# Hacemos una matrix de correlaciones con seaborn para ver las relaciones entre las diferentes variables\n",
    "data_0 = geo_data_0.drop('id',axis=1)\n",
    "matrix_correlation(data_0)"
   ]
  },
  {
   "cell_type": "markdown",
   "metadata": {},
   "source": [
    "#### Dividimos los datos en un conjunto de entrenamiento y un conjunto de validación en una proporción de 75:25"
   ]
  },
  {
   "cell_type": "code",
   "execution_count": 16,
   "metadata": {},
   "outputs": [
    {
     "name": "stdout",
     "output_type": "stream",
     "text": [
      "RMSE: 37.76\n",
      "R²: 0.27\n",
      "Volumen medio de reservas predicho: 92.40\n"
     ]
    }
   ],
   "source": [
    "#Caracteristicas y objetivos para cada region\n",
    "\n",
    "# Separamos las características y el objetivo\n",
    "features_0 = data_0.drop('product', axis=1)  # Eliminamos la columna 'product' para obtener las características\n",
    "target_0 = data_0['product']  # La columna 'product' es el objetivo\n",
    "\n",
    "# Dividimos los datos en conjuntos de entrenamiento y validación (75% entrenamiento, 25% validación)\n",
    "features_train_0, features_valid_0, target_train_0, target_valid_0 = train_test_split(\n",
    "    features_0, target_0, test_size=0.25, random_state=42\n",
    ")\n",
    "\n",
    "# Creamos y entrenamos el modelo de regresión lineal\n",
    "model_0 = LinearRegression()\n",
    "model_0.fit(features_train_0, target_train_0)\n",
    "\n",
    "# Realizamos las predicciones sobre el conjunto de validación\n",
    "predicted = model_0.predict(features_valid_0)\n",
    "\n",
    "# Calculamos el RMSE (Root Mean Squared Error)\n",
    "rmse = np.sqrt(mean_squared_error(target_valid_0, predicted))\n",
    "print(f\"RMSE: {rmse:.2f}\")\n",
    "\n",
    "# Calculamos el R² (coeficiente de determinación)\n",
    "r2 = r2_score(target_valid_0, predicted)\n",
    "print(f\"R²: {r2:.2f}\")\n",
    "\n",
    "# Calculamos el volumen medio de reservas predicho\n",
    "volumen_medio_predicho = predicted.mean()\n",
    "print(f'Volumen medio de reservas predicho: {volumen_medio_predicho:.2f}')\n"
   ]
  },
  {
   "cell_type": "markdown",
   "metadata": {},
   "source": [
    "#### Analizamos Resutados"
   ]
  },
  {
   "cell_type": "markdown",
   "metadata": {},
   "source": [
    "Para geo_data_0:\n",
    "- Obtenemos el valor promedio de las prediciones de las reservas,. un 92.4\n",
    "- Obtuvimos un RMSE de 37.75, esto quiere decir que tenemos errores de hasta 37.75 entre los valores reales y los valores pronosticados por el modelo."
   ]
  },
  {
   "cell_type": "markdown",
   "metadata": {},
   "source": [
    "#### A continuacion entrenaremos y probaremos el modelo para cada región en este caso geo_data_1.csv:"
   ]
  },
  {
   "cell_type": "code",
   "execution_count": 17,
   "metadata": {},
   "outputs": [
    {
     "data": {
      "text/html": [
       "<div>\n",
       "<style scoped>\n",
       "    .dataframe tbody tr th:only-of-type {\n",
       "        vertical-align: middle;\n",
       "    }\n",
       "\n",
       "    .dataframe tbody tr th {\n",
       "        vertical-align: top;\n",
       "    }\n",
       "\n",
       "    .dataframe thead th {\n",
       "        text-align: right;\n",
       "    }\n",
       "</style>\n",
       "<table border=\"1\" class=\"dataframe\">\n",
       "  <thead>\n",
       "    <tr style=\"text-align: right;\">\n",
       "      <th></th>\n",
       "      <th>max</th>\n",
       "      <th>min</th>\n",
       "      <th>average</th>\n",
       "    </tr>\n",
       "  </thead>\n",
       "  <tbody>\n",
       "    <tr>\n",
       "      <th>f0</th>\n",
       "      <td>29.421755</td>\n",
       "      <td>-31.609576</td>\n",
       "      <td>1.141296</td>\n",
       "    </tr>\n",
       "    <tr>\n",
       "      <th>f1</th>\n",
       "      <td>18.734063</td>\n",
       "      <td>-26.358598</td>\n",
       "      <td>-4.796579</td>\n",
       "    </tr>\n",
       "    <tr>\n",
       "      <th>f2</th>\n",
       "      <td>5.019721</td>\n",
       "      <td>-0.018144</td>\n",
       "      <td>2.494541</td>\n",
       "    </tr>\n",
       "    <tr>\n",
       "      <th>product</th>\n",
       "      <td>137.945408</td>\n",
       "      <td>0.000000</td>\n",
       "      <td>68.825000</td>\n",
       "    </tr>\n",
       "  </tbody>\n",
       "</table>\n",
       "</div>"
      ],
      "text/plain": [
       "                max        min    average\n",
       "f0        29.421755 -31.609576   1.141296\n",
       "f1        18.734063 -26.358598  -4.796579\n",
       "f2         5.019721  -0.018144   2.494541\n",
       "product  137.945408   0.000000  68.825000"
      ]
     },
     "execution_count": 17,
     "metadata": {},
     "output_type": "execute_result"
    }
   ],
   "source": [
    "#Valores maximos, minimosy promedio\n",
    "\n",
    "geo_data_1.select_dtypes(float).agg(['max','min','average']).T"
   ]
  },
  {
   "cell_type": "code",
   "execution_count": 18,
   "metadata": {},
   "outputs": [
    {
     "data": {
      "image/png": "[encoded data removed]",
      "text/plain": [
       "<Figure size 1000x800 with 2 Axes>"
      ]
     },
     "metadata": {},
     "output_type": "display_data"
    }
   ],
   "source": [
    "# Hacemos una matrix de correlaciones con seaborn para ver las relaciones entre las diferentes variables\n",
    "data_1 = geo_data_1.drop('id', axis=1)\n",
    "matrix_correlation(data_1)"
   ]
  },
  {
   "cell_type": "code",
   "execution_count": 19,
   "metadata": {},
   "outputs": [
    {
     "name": "stdout",
     "output_type": "stream",
     "text": [
      "RMSE: 0.89\n",
      "R²: 1.00\n",
      "Volumen medio de reservas predicho: 68.71\n"
     ]
    }
   ],
   "source": [
    "#Caracteristicas y objetivos para cada region\n",
    "\n",
    "# Separamos las características y el objetivo\n",
    "features_1 = data_1.drop('product', axis=1)  # Eliminamos la columna 'product' para obtener las características\n",
    "target_1 = data_1['product']  # La columna 'product' es el objetivo\n",
    "\n",
    "# Dividimos los datos en conjuntos de entrenamiento y validación (75% entrenamiento, 25% validación)\n",
    "features_train_1, features_valid_1, target_train_1, target_valid_1 = train_test_split(\n",
    "    features_1, target_1, test_size=0.25, random_state=42\n",
    ")\n",
    "\n",
    "# Creamos y entrenamos el modelo de regresión lineal\n",
    "model_1 = LinearRegression()\n",
    "model_1.fit(features_train_1, target_train_1)\n",
    "\n",
    "# Realizamos las predicciones sobre el conjunto de validación\n",
    "predicted = model_1.predict(features_valid_1)\n",
    "\n",
    "# Calculamos el RMSE (Root Mean Squared Error)\n",
    "rmse = np.sqrt(mean_squared_error(target_valid_1, predicted))\n",
    "print(f\"RMSE: {rmse:.2f}\")\n",
    "\n",
    "# Calculamos el R² (coeficiente de determinación)\n",
    "r2 = r2_score(target_valid_1, predicted)\n",
    "print(f\"R²: {r2:.2f}\")\n",
    "\n",
    "# Calculamos el volumen medio de reservas predicho\n",
    "volumen_medio_predicho = predicted.mean()\n",
    "print(f'Volumen medio de reservas predicho: {volumen_medio_predicho:.2f}')\n"
   ]
  },
  {
   "cell_type": "markdown",
   "metadata": {},
   "source": [
    "Para geo_data_1\n",
    "- Obtenemos el valor promedio de las prediciones de las reservas, un 68.71\n",
    "- Obtuvimos un RMSE de 0.89, esto quiere decir que tenemos errores de hasta 0.89 entre los valores reales y los valores pronosticados por el modelo. Es un buen valor quiere decir que nuestra prediccion esta muy cerca de los valores reales."
   ]
  },
  {
   "cell_type": "markdown",
   "metadata": {},
   "source": [
    "#### A continuacion entrenaremos y probaremos el modelo para cada región en este caso geo_data_2.csv:"
   ]
  },
  {
   "cell_type": "code",
   "execution_count": 20,
   "metadata": {},
   "outputs": [
    {
     "data": {
      "text/html": [
       "<div>\n",
       "<style scoped>\n",
       "    .dataframe tbody tr th:only-of-type {\n",
       "        vertical-align: middle;\n",
       "    }\n",
       "\n",
       "    .dataframe tbody tr th {\n",
       "        vertical-align: top;\n",
       "    }\n",
       "\n",
       "    .dataframe thead th {\n",
       "        text-align: right;\n",
       "    }\n",
       "</style>\n",
       "<table border=\"1\" class=\"dataframe\">\n",
       "  <thead>\n",
       "    <tr style=\"text-align: right;\">\n",
       "      <th></th>\n",
       "      <th>max</th>\n",
       "      <th>min</th>\n",
       "      <th>average</th>\n",
       "    </tr>\n",
       "  </thead>\n",
       "  <tbody>\n",
       "    <tr>\n",
       "      <th>f0</th>\n",
       "      <td>7.238262</td>\n",
       "      <td>-8.760004</td>\n",
       "      <td>0.002023</td>\n",
       "    </tr>\n",
       "    <tr>\n",
       "      <th>f1</th>\n",
       "      <td>7.844801</td>\n",
       "      <td>-7.084020</td>\n",
       "      <td>-0.002081</td>\n",
       "    </tr>\n",
       "    <tr>\n",
       "      <th>f2</th>\n",
       "      <td>16.739402</td>\n",
       "      <td>-11.970335</td>\n",
       "      <td>2.495128</td>\n",
       "    </tr>\n",
       "    <tr>\n",
       "      <th>product</th>\n",
       "      <td>190.029838</td>\n",
       "      <td>0.000000</td>\n",
       "      <td>95.000000</td>\n",
       "    </tr>\n",
       "  </tbody>\n",
       "</table>\n",
       "</div>"
      ],
      "text/plain": [
       "                max        min    average\n",
       "f0         7.238262  -8.760004   0.002023\n",
       "f1         7.844801  -7.084020  -0.002081\n",
       "f2        16.739402 -11.970335   2.495128\n",
       "product  190.029838   0.000000  95.000000"
      ]
     },
     "execution_count": 20,
     "metadata": {},
     "output_type": "execute_result"
    }
   ],
   "source": [
    "#Valores maximos, minimosy promedio\n",
    "\n",
    "geo_data_2.select_dtypes(float).agg(['max','min','average']).T"
   ]
  },
  {
   "cell_type": "code",
   "execution_count": 21,
   "metadata": {},
   "outputs": [
    {
     "data": {
      "image/png": "[encoded data removed]",
      "text/plain": [
       "<Figure size 1000x800 with 2 Axes>"
      ]
     },
     "metadata": {},
     "output_type": "display_data"
    }
   ],
   "source": [
    "# Hacemos una matrix de correlaciones con seaborn para ver las relaciones entre las diferentes variables\n",
    "data_2 = geo_data_2.drop('id', axis=1)\n",
    "matrix_correlation(data_2)"
   ]
  },
  {
   "cell_type": "code",
   "execution_count": 22,
   "metadata": {},
   "outputs": [
    {
     "name": "stdout",
     "output_type": "stream",
     "text": [
      "RMSE: 40.15\n",
      "R²: 0.20\n",
      "Volumen medio de reservas predicho: 94.77\n"
     ]
    }
   ],
   "source": [
    "#Caracteristicas y objetivos para cada region\n",
    "\n",
    "# Separamos las características y el objetivo\n",
    "features_2 = data_2.drop('product', axis=1)  # Eliminamos la columna 'product' para obtener las características\n",
    "target_2 = data_2['product']  # La columna 'product' es el objetivo\n",
    "\n",
    "# Dividimos los datos en conjuntos de entrenamiento y validación (75% entrenamiento, 25% validación)\n",
    "features_train_2, features_valid_2, target_train_2, target_valid_2 = train_test_split(\n",
    "    features_2, target_2, test_size=0.25, random_state=42\n",
    ")\n",
    "\n",
    "# Creamos y entrenamos el modelo de regresión lineal\n",
    "model_2 = LinearRegression()\n",
    "model_2.fit(features_train_2, target_train_2)\n",
    "\n",
    "# Realizamos las predicciones sobre el conjunto de validación\n",
    "predicted = model_2.predict(features_valid_2)\n",
    "\n",
    "# Calculamos el RMSE (Root Mean Squared Error)\n",
    "rmse = np.sqrt(mean_squared_error(target_valid_2, predicted))\n",
    "print(f\"RMSE: {rmse:.2f}\")\n",
    "\n",
    "# Calculamos el R² (coeficiente de determinación)\n",
    "r2 = r2_score(target_valid_2, predicted)\n",
    "print(f\"R²: {r2:.2f}\")\n",
    "\n",
    "# Calculamos el volumen medio de reservas predicho\n",
    "volumen_medio_predicho = predicted.mean()\n",
    "print(f'Volumen medio de reservas predicho: {volumen_medio_predicho:.2f}')\n"
   ]
  },
  {
   "cell_type": "markdown",
   "metadata": {},
   "source": [
    "Para geo_data_2\n",
    "- Obtenemos el valor promedio de las prediciones de las reservas, un 94.77\n",
    "- Obtuvimos un RMSE de 40.15, esto quiere decir que tenemos errores de hasta 40.15 entre los valores reales y los valores pronosticados por el modelo."
   ]
  },
  {
   "cell_type": "markdown",
   "metadata": {},
   "source": [
    "### Cálculo de ganancias:"
   ]
  },
  {
   "cell_type": "code",
   "execution_count": 23,
   "metadata": {},
   "outputs": [],
   "source": [
    "# Calculamos todos los valores pronosticados de features y hacemos dataframe con los valores de target\n",
    "\n",
    "target_predicted_0 = pd.DataFrame({'product_predicted': model_0.predict(features_0), 'product':target_0} )\n",
    "\n",
    "target_predicted_1 = pd.DataFrame({'product_predicted': model_1.predict(features_1), 'product':target_1} )\n",
    "\n",
    "target_predicted_2 = pd.DataFrame({'product_predicted': model_2.predict(features_2), 'product':target_2} )"
   ]
  },
  {
   "cell_type": "markdown",
   "metadata": {},
   "source": [
    "#### Dada la inversión de 100 millones por 200 pozos petrolíferos, de media un pozo petrolífero debe producir al menos un valor de 500,000 dólares en unidades para evitar pérdidas (esto es equivalente a 111.1 unidades). Compararemos esta cantidad con la cantidad media de reservas en cada región. "
   ]
  },
  {
   "cell_type": "code",
   "execution_count": 24,
   "metadata": {},
   "outputs": [],
   "source": [
    "# Datos apartir del glosario\n",
    "investment = 100000000  # 100 millones\n",
    "wells = 200\n",
    "cost_per_well = investment / wells  # Cost_per_unit\n",
    "min_profit_per_well = 111.1  # Valor necesario para evitar pérdidas"
   ]
  },
  {
   "cell_type": "markdown",
   "metadata": {},
   "source": [
    "#### Comentarios sobre el calculo de beneficios\n",
    "- Tenemos los modelos para cada conjunto de datos.\n",
    "- Podemos calcular las reservas, los beneficio y la ganacia para cada uno\n",
    "- Podemos comparar la media de reservas por cada pozo para ver si tendremos perdidas"
   ]
  },
  {
   "cell_type": "markdown",
   "metadata": {},
   "source": [
    "#### Eligimos los 200 pozos con los valores de predicción más altos de cada una de las 3 regiones (es decir, archivos 'csv')."
   ]
  },
  {
   "cell_type": "code",
   "execution_count": 25,
   "metadata": {},
   "outputs": [
    {
     "name": "stdout",
     "output_type": "stream",
     "text": [
      "Maximo : 195.1 miles de barriles y Minimo: 157.18 miles de barriles\n"
     ]
    }
   ],
   "source": [
    "# geo_data_0 calculos valores pronosticados por el modelo\n",
    "# top 200\n",
    "pred_0_top_200 = target_predicted_0.sort_values('product_predicted', ascending=False)[:200]\n",
    "print(f'Maximo : {round(pred_0_top_200['product_predicted'].max(),2)} miles de barriles y Minimo: {round(pred_0_top_200['product_predicted'].min(),2)} miles de barriles')\n"
   ]
  },
  {
   "cell_type": "code",
   "execution_count": 26,
   "metadata": {},
   "outputs": [
    {
     "name": "stdout",
     "output_type": "stream",
     "text": [
      "Maximo : 140.36 miles de barriles y Minimo: 138.9 miles de barriles\n"
     ]
    }
   ],
   "source": [
    "# geo_data_1 calculos valores pronosticados por el modelo\n",
    "# top 200\n",
    "pred_1_top_200 = target_predicted_1.sort_values('product_predicted', ascending=False)[:200]\n",
    "print(f'Maximo : {round(pred_1_top_200['product_predicted'].max(),2)} miles de barriles y Minimo: {round(pred_1_top_200['product_predicted'].min(),2)} miles de barriles')\n"
   ]
  },
  {
   "cell_type": "code",
   "execution_count": 27,
   "metadata": {},
   "outputs": [
    {
     "name": "stdout",
     "output_type": "stream",
     "text": [
      "Maximo : 176.98 miles de barriles y Minimo: 151.42 miles de barriles\n"
     ]
    }
   ],
   "source": [
    "# geo_data_2 calculos valores pronosticados por el modelo\n",
    "# top 200\n",
    "pred_2_top_200 = target_predicted_2.sort_values('product_predicted', ascending=False)[:200]\n",
    "print(f'Maximo : {round(pred_2_top_200['product_predicted'].max(),2)} miles de barriles y Minimo: {round(pred_2_top_200['product_predicted'].min(),2)} miles de barriles')"
   ]
  },
  {
   "cell_type": "markdown",
   "metadata": {},
   "source": [
    "#### 4.2 Resume el volumen objetivo de reservas según dichas predicciones. Almacena las predicciones para los 200 pozos para cada una de las 3 regiones."
   ]
  },
  {
   "cell_type": "code",
   "execution_count": 28,
   "metadata": {},
   "outputs": [],
   "source": [
    "\n",
    "# Función para calcular reservas totales y promedio\n",
    "\n",
    "def calcular_reservas(geo_name, top_200, min_profit_per_well):\n",
    "    \"\"\"\n",
    "    Calcula y muestra las reservas promedio y totales, además de evaluar la ganancia.\n",
    "\n",
    "    Parámetros:\n",
    "    - geo_name (str): Nombre del conjunto de datos o región.\n",
    "    - top_200 (DataFrame): Conjunto de datos con los pozos seleccionados.\n",
    "    - min_profit_per_well (float): Mínimo beneficio por pozo en miles de barriles para evitar pérdidas.\n",
    "\n",
    "    \"\"\"\n",
    "    print(f'Conjunto de datos: {geo_name}')\n",
    "    \n",
    "    # Cálculo de reservas promedio\n",
    "    prom_reserves = top_200['product'].mean()\n",
    "    print(f'Reserva Promedio por Pozo (mínimo: {min_profit_per_well} miles de barriles): {round(prom_reserves, 2)}')\n",
    "    \n",
    "    # Cálculo de reservas totales\n",
    "    total_reserves = top_200['product'].sum()\n",
    "    print(f'Reserva Total: {round(total_reserves, 2)} miles de barriles')"
   ]
  },
  {
   "cell_type": "code",
   "execution_count": 29,
   "metadata": {},
   "outputs": [
    {
     "name": "stdout",
     "output_type": "stream",
     "text": [
      "Conjunto de datos: Geo_data_0\n",
      "Reserva Promedio por Pozo (mínimo: 111.1 miles de barriles): 150.28\n",
      "Reserva Total: 30055.95 miles de barriles\n"
     ]
    }
   ],
   "source": [
    "# Para los pozos de la region geo_data_0:\n",
    "calcular_reservas('Geo_data_0',pred_0_top_200, min_profit_per_well)"
   ]
  },
  {
   "cell_type": "code",
   "execution_count": 30,
   "metadata": {},
   "outputs": [
    {
     "name": "stdout",
     "output_type": "stream",
     "text": [
      "Conjunto de datos: Geo_data_1\n",
      "Reserva Promedio por Pozo (mínimo: 111.1 miles de barriles): 137.95\n",
      "Reserva Total: 27589.08 miles de barriles\n"
     ]
    }
   ],
   "source": [
    "# Para los pozos de la region geo_data_1:\n",
    "calcular_reservas('Geo_data_1',pred_1_top_200, min_profit_per_well)"
   ]
  },
  {
   "cell_type": "code",
   "execution_count": 31,
   "metadata": {},
   "outputs": [
    {
     "name": "stdout",
     "output_type": "stream",
     "text": [
      "Conjunto de datos: Geo_data_2\n",
      "Reserva Promedio por Pozo (mínimo: 111.1 miles de barriles): 139.96\n",
      "Reserva Total: 27991.05 miles de barriles\n"
     ]
    }
   ],
   "source": [
    "# Para los pozos de la region geo_data_2:\n",
    "calcular_reservas('Geo_data_2',pred_2_top_200, min_profit_per_well)"
   ]
  },
  {
   "cell_type": "markdown",
   "metadata": {},
   "source": [
    "#### Calcularemos la ganancia potencial de los 200 pozos principales por región."
   ]
  },
  {
   "cell_type": "code",
   "execution_count": 32,
   "metadata": {},
   "outputs": [
    {
     "name": "stdout",
     "output_type": "stream",
     "text": [
      "Conjunto de datos: Geo Data 0\n",
      "Beneficio Total: $135,265,281.57 dólares\n",
      "Ganancia: $35,265,281.57 dólares\n"
     ]
    }
   ],
   "source": [
    "# Para los pozos de la región geo_data_0:\n",
    "\n",
    "print('Conjunto de datos: Geo Data 0')\n",
    "\n",
    "# Calculamos las reservas totales (en miles de barriles)\n",
    "total_reserves = pred_0_top_200['product'].sum()\n",
    "\n",
    "# Cálculo del beneficio total en dólares\n",
    "# Dato: 111.1 miles de barriles equivale a $500,000 (esto nos da una tasa de conversión).\n",
    "# El cálculo toma el total de las reservas y lo multiplica por la tasa de beneficio por barril.\n",
    "revenue_per_well = cost_per_well / min_profit_per_well  # Cálculo del beneficio por barril\n",
    "revenue = total_reserves * revenue_per_well  # Beneficio total\n",
    "\n",
    "# Mostramos el beneficio total con formato adecuado (con miles de separadores y 2 decimales)\n",
    "print(f'Beneficio Total: ${revenue:,.2f} dólares')\n",
    "\n",
    "# Calculamos la ganancia neta, restando la inversión inicial\n",
    "profit = revenue - investment\n",
    "\n",
    "# Mostramos la ganancia neta con formato adecuado\n",
    "print(f'Ganancia: ${profit:,.2f} dólares')\n",
    "\n",
    "# Almacenamos los resultados en un diccionario para su uso posterior\n",
    "geo_0 = {\n",
    "    'Reserva_Total': total_reserves,  # Reservas totales en miles de barriles\n",
    "    'Beneficio_Total': revenue,  # Beneficio total en dólares\n",
    "    'Ganancia': profit  # Ganancia neta en dólares\n",
    "}"
   ]
  },
  {
   "cell_type": "code",
   "execution_count": 33,
   "metadata": {},
   "outputs": [
    {
     "name": "stdout",
     "output_type": "stream",
     "text": [
      "Conjunto de datos: Geo Data 1\n",
      "Beneficio Total: $124,163,283.30 dólares\n",
      "Ganancia: $24,163,283.30 dólares\n"
     ]
    }
   ],
   "source": [
    "# Para los pozos de la región geo_data_1:\n",
    "\n",
    "print('Conjunto de datos: Geo Data 1')\n",
    "\n",
    "# Calculamos las reservas totales (en miles de barriles)\n",
    "total_reserves = pred_1_top_200['product'].sum()\n",
    "\n",
    "# Cálculo del beneficio total en dólares\n",
    "# Dato: 111.1 miles de barriles equivale a $500,000 (esto nos da una tasa de conversión).\n",
    "# El cálculo toma el total de las reservas y lo multiplica por la tasa de beneficio por barril.\n",
    "revenue_per_well = cost_per_well / min_profit_per_well  # Cálculo del beneficio por barril\n",
    "revenue = total_reserves * revenue_per_well  # Beneficio total\n",
    "\n",
    "# Mostramos el beneficio total con formato adecuado (con miles de separadores y 2 decimales)\n",
    "print(f'Beneficio Total: ${revenue:,.2f} dólares')\n",
    "\n",
    "# Calculamos la ganancia neta, restando la inversión inicial\n",
    "profit = revenue - investment\n",
    "\n",
    "# Mostramos la ganancia neta con formato adecuado\n",
    "print(f'Ganancia: ${profit:,.2f} dólares')\n",
    "\n",
    "# Almacenamos los resultados en un diccionario para su uso posterior\n",
    "geo_1 = {\n",
    "    'Reserva_Total': total_reserves,  # Reservas totales en miles de barriles\n",
    "    'Beneficio_Total': revenue,  # Beneficio total en dólares\n",
    "    'Ganancia': profit  # Ganancia neta en dólares\n",
    "}"
   ]
  },
  {
   "cell_type": "code",
   "execution_count": 34,
   "metadata": {},
   "outputs": [
    {
     "name": "stdout",
     "output_type": "stream",
     "text": [
      "Conjunto de datos: Geo Data 2\n",
      "Beneficio Total: $125,972,337.17 dólares\n",
      "Ganancia: $25,972,337.17 dólares\n"
     ]
    }
   ],
   "source": [
    "# Para los pozos de la región geo_data_2:\n",
    "\n",
    "print('Conjunto de datos: Geo Data 2')\n",
    "\n",
    "# Calculamos las reservas totales (en miles de barriles)\n",
    "total_reserves = pred_2_top_200['product'].sum()\n",
    "\n",
    "# Cálculo del beneficio total en dólares\n",
    "# Dato: 111.1 miles de barriles equivale a $500,000 (esto nos da una tasa de conversión).\n",
    "# El cálculo toma el total de las reservas y lo multiplica por la tasa de beneficio por barril.\n",
    "revenue_per_well = cost_per_well / min_profit_per_well  # Cálculo del beneficio por barril\n",
    "revenue = total_reserves * revenue_per_well  # Beneficio total\n",
    "\n",
    "# Mostrar el beneficio total con formato adecuado (con miles de separadores y 2 decimales)\n",
    "print(f'Beneficio Total: ${revenue:,.2f} dólares')\n",
    "\n",
    "# Calculamos la ganancia neta, restando la inversión inicial\n",
    "profit = revenue - investment\n",
    "\n",
    "# Mostrar la ganancia neta con formato adecuado\n",
    "print(f'Ganancia: ${profit:,.2f} dólares')\n",
    "\n",
    "# Almacenamos los resultados en un diccionario para su uso posterior\n",
    "geo_2 = {\n",
    "    'Reserva_Total': total_reserves,  # Reservas totales en miles de barriles\n",
    "    'Beneficio_Total': revenue,  # Beneficio total en dólares\n",
    "    'Ganancia': profit  # Ganancia neta en dólares\n",
    "}"
   ]
  },
  {
   "cell_type": "code",
   "execution_count": 35,
   "metadata": {},
   "outputs": [
    {
     "name": "stdout",
     "output_type": "stream",
     "text": [
      "     Conjunto  Reserva_Total  Beneficio_Total      Ganancia\n",
      "0  geo_data_0   30055.945566     1.352653e+08  3.526528e+07\n",
      "1  geo_data_1   27589.081548     1.241633e+08  2.416328e+07\n",
      "2  geo_data_2   27991.053319     1.259723e+08  2.597234e+07\n"
     ]
    },
    {
     "data": {
      "image/png": "[encoded data removed]",
      "text/plain": [
       "<Figure size 1000x600 with 1 Axes>"
      ]
     },
     "metadata": {},
     "output_type": "display_data"
    }
   ],
   "source": [
    "\n",
    "# Creamos el DataFrame a partir de los diccionarios\n",
    "resultados = pd.DataFrame({\n",
    "    'geo_data_0': geo_0,\n",
    "    'geo_data_1': geo_1,\n",
    "    'geo_data_2': geo_2\n",
    "})\n",
    "\n",
    "# Transponemos el DataFrame y restablecemos el índice\n",
    "resultados = resultados.T.reset_index().rename(columns={'index': 'Conjunto'})\n",
    "\n",
    "# Mostramos el DataFrame resultante\n",
    "print(resultados)\n",
    "\n",
    "# Definimos las métricas a graficar\n",
    "metrics = ['Reserva_Total', 'Beneficio_Total', 'Ganancia']\n",
    "n_groups = len(resultados)\n",
    "bar_width = 0.2\n",
    "indices = np.arange(n_groups)\n",
    "\n",
    "# Creamos la figura y los ejes para el gráfico de barras agrupadas\n",
    "fig, ax = plt.subplots(figsize=(10, 6))\n",
    "\n",
    "# Iteramos sobre cada métrica para graficar sus barras y añadir las etiquetas\n",
    "for i, metric in enumerate(metrics):\n",
    "    bars = ax.bar(indices + i * bar_width, resultados[metric], bar_width, label=metric)\n",
    "    # Agregar el valor numérico encima de cada barra\n",
    "    for bar in bars:\n",
    "        height = bar.get_height()\n",
    "        ax.text(bar.get_x() + bar.get_width()/2, height, f'{height:.2f}',\n",
    "                ha='center', va='bottom', fontsize=8)\n",
    "\n",
    "# Configuración de etiquetas y leyenda\n",
    "ax.set_xlabel('Conjunto')\n",
    "ax.set_ylabel('Valores')\n",
    "ax.set_title('Comparación de Métricas por Conjunto')\n",
    "ax.set_xticks(indices + bar_width)\n",
    "ax.set_xticklabels(resultados['Conjunto'])\n",
    "ax.legend()\n",
    "\n",
    "plt.tight_layout()\n",
    "plt.show()\n"
   ]
  },
  {
   "cell_type": "markdown",
   "metadata": {},
   "source": [
    "Conclusiones:\n",
    "- Como podemos ver el conjunto de datos geo_data_0 es la que tiene mayores reservas, mayor beneficio y por consecuencia mayores ganancias. "
   ]
  },
  {
   "cell_type": "markdown",
   "metadata": {},
   "source": [
    "#### Calculo de riesgos y ganancias para cada región:\n",
    "Empleremos la técnica del bootstrapping con 1000 muestras para hallar la distribución de los beneficios."
   ]
  },
  {
   "cell_type": "code",
   "execution_count": 36,
   "metadata": {},
   "outputs": [],
   "source": [
    "def bootstrap_profit(predictions, valids, cost=500000, min_profit_per_well=111.1, n_samples=1000, wells=500, price_per_barrel=4500, initial_investment=100_000_000):\n",
    "    \"\"\"\n",
    "    Calcula la ganancia utilizando bootstrapping a partir de las predicciones de reservas de pozos.\n",
    "\n",
    "    Parámetros:\n",
    "    - predictions (pd.Series): Predicciones de reservas para los pozos (en miles de barriles).\n",
    "    - valids (pd.Series): Reservas reales o validadas (en miles de barriles).\n",
    "    - cost (float): Costo por pozo en dólares (por defecto 500,000).\n",
    "    - min_profit_per_well (float): Mínimo beneficio por pozo en miles de barriles.\n",
    "    - n_samples (int): Número de muestras de bootstrapping a realizar.\n",
    "    - wells (int): Número de pozos a muestrear en cada muestra.\n",
    "    - price_per_barrel (float): Precio por barril (por defecto 4500).\n",
    "    - initial_investment (float): Inversión inicial (por defecto 100 millones).\n",
    "\n",
    "    Retorna:\n",
    "    - mean_profit (float): Ganancia promedio de las muestras de bootstrapping.\n",
    "    - profits (np.array): Array con las ganancias para cada muestra.\n",
    "    \"\"\"\n",
    "    \n",
    "    # Verificar que las entradas sean series de Pandas\n",
    "    if not isinstance(predictions, pd.Series) or not isinstance(valids, pd.Series):\n",
    "        raise ValueError(\"Las predicciones y los valores válidos deben ser Series de Pandas.\")\n",
    "\n",
    "    # Inicializar la lista de beneficios\n",
    "    profits = []\n",
    "\n",
    "    # Realizamos el bootstrapping\n",
    "    for _ in range(n_samples):\n",
    "        # Tomamos una muestra aleatoria de 'wells' pozos con reemplazo, ordenada por las predicciones\n",
    "        sample = predictions.sample(n=wells, replace=True).sort_values(ascending=False)[:200]\n",
    "        \n",
    "        # Calculamos el beneficio, multiplicando por el precio por barril y restando la inversión\n",
    "        revenue = valids.loc[sample.index].sum() * price_per_barrel  # Ingresos de los pozos seleccionados\n",
    "        profit = revenue - initial_investment  # Restamos la inversión inicial\n",
    "        profits.append(profit)  # Añadimos el beneficio a la lista\n",
    "    \n",
    "    # Convertir la lista de ganancias a un array de numpy para facilitar estadísticas adicionales\n",
    "    profits = np.array(profits)\n",
    "\n",
    "    # Calcular la ganancia promedio de todas las muestras\n",
    "    mean_profit = profits.mean()\n",
    "\n",
    "    # Retornamos la ganancia promedio y las ganancias de cada muestra\n",
    "    return mean_profit, profits\n"
   ]
  },
  {
   "cell_type": "code",
   "execution_count": 37,
   "metadata": {},
   "outputs": [
    {
     "name": "stdout",
     "output_type": "stream",
     "text": [
      "Para: geo_data_0\n",
      "Beneficio promedio para la región 0: $3,990,053.64 dolares\n"
     ]
    }
   ],
   "source": [
    "#geo_data_0\n",
    "predicted_valid_0 = pd.DataFrame({'predicted':model_0.predict(features_valid_0),'valid':target_valid_0}) # 25K\n",
    "\n",
    "mean_profit_0, profit_distribution_0 = bootstrap_profit(predicted_valid_0['predicted'], predicted_valid_0['valid'])\n",
    "print('Para: geo_data_0')\n",
    "print(f'Beneficio promedio para la región 0: ${mean_profit_0:,.2f} dolares')"
   ]
  },
  {
   "cell_type": "code",
   "execution_count": 38,
   "metadata": {},
   "outputs": [
    {
     "name": "stdout",
     "output_type": "stream",
     "text": [
      "Para: geo_data_1\n",
      "Beneficio promedio para la región 1: $4,436,310.14 dolares\n"
     ]
    }
   ],
   "source": [
    "#geo_data_1\n",
    "predicted_valid_1 = pd.DataFrame({'predicted':model_1.predict(features_valid_1),'valid':target_valid_1}) # 25K\n",
    "\n",
    "mean_profit_1, profit_distribution_1 = bootstrap_profit(predicted_valid_1['predicted'], predicted_valid_1['valid'])\n",
    "print('Para: geo_data_1')\n",
    "print(f'Beneficio promedio para la región 1: ${mean_profit_1:,.2f} dolares')\n"
   ]
  },
  {
   "cell_type": "code",
   "execution_count": 39,
   "metadata": {},
   "outputs": [
    {
     "name": "stdout",
     "output_type": "stream",
     "text": [
      "Para: geo_data_2\n",
      "Beneficio promedio para la región 2: $3,703,119.57 dolares\n"
     ]
    }
   ],
   "source": [
    "#geo_data_2\n",
    "predicted_valid_2 = pd.DataFrame({'predicted':model_2.predict(features_valid_2),'valid':target_valid_2}) # 25K\n",
    "\n",
    "mean_profit_2, profit_distribution_2 = bootstrap_profit(predicted_valid_2['predicted'], predicted_valid_2['valid'])\n",
    "print('Para: geo_data_2')\n",
    "print(f'Beneficio promedio para la región 2: ${mean_profit_2:,.2f} dolares')"
   ]
  },
  {
   "cell_type": "code",
   "execution_count": 40,
   "metadata": {},
   "outputs": [
    {
     "data": {
      "image/png": "[encoded data removed]",
      "text/plain": [
       "<Figure size 1000x600 with 1 Axes>"
      ]
     },
     "metadata": {},
     "output_type": "display_data"
    }
   ],
   "source": [
    "# Comparacion de Beneficios\n",
    "region_scores = {\n",
    "    'geo_data_0': {'mean_profit': mean_profit_0},\n",
    "    'geo_data_1': {'mean_profit': mean_profit_1},\n",
    "    'geo_data_2': {'mean_profit': mean_profit_2}\n",
    "}\n",
    "\n",
    "# Convertir el diccionario en un DataFrame\n",
    "df_region_scores = pd.DataFrame.from_dict(region_scores, orient='index').reset_index().rename(columns={'index': 'Región'})\n",
    "\n",
    "# Crear el gráfico de barras\n",
    "plt.figure(figsize=(10, 6))\n",
    "bars = plt.bar(df_region_scores['Región'], df_region_scores['mean_profit'], color='skyblue')\n",
    "\n",
    "# Añadir la etiqueta numérica encima de cada barra\n",
    "for bar in bars:\n",
    "    height = bar.get_height()\n",
    "    plt.text(bar.get_x() + bar.get_width()/2, height, f'$ {height:,.2f}', ha='center', va='bottom', fontsize=10)\n",
    "\n",
    "plt.xlabel('Región')\n",
    "plt.ylabel('Beneficio Promedio ($)')\n",
    "plt.title('Comparación de Beneficios Promedio Posible por Región')\n",
    "plt.grid(axis='y', linestyle='--', alpha=0.7)\n",
    "plt.tight_layout()\n",
    "plt.show()\n"
   ]
  },
  {
   "cell_type": "markdown",
   "metadata": {},
   "source": [
    "##### Buscaremos el beneficio promedio, el intervalo de confianza del 95% y el riesgo de pérdidas. La pérdida es una ganancia negativa, la calcúlaremos como una probabilidad en porcentajes."
   ]
  },
  {
   "cell_type": "code",
   "execution_count": 41,
   "metadata": {},
   "outputs": [],
   "source": [
    "def analyze_bootstrap_results(profit_distribution, confidence_level=95):\n",
    "    # Calcula el intervalo de confianza\n",
    "    lower_bound = np.percentile(profit_distribution, (100 - confidence_level) / 2) # limite inferior [2.5 \n",
    "    upper_bound = np.percentile(profit_distribution, 100 - (100 - confidence_level) / 2) #limite superior  97.5]\n",
    "    \n",
    "    # Calcula la probabilidad de pérdida (ganancias negativas)\n",
    "    risk_of_loss = (profit_distribution < 0).mean() * 100\n",
    "    \n",
    "    # Retorna el intervalo de confianza y el riesgo\n",
    "    return lower_bound, upper_bound, risk_of_loss"
   ]
  },
  {
   "cell_type": "code",
   "execution_count": 42,
   "metadata": {},
   "outputs": [
    {
     "name": "stdout",
     "output_type": "stream",
     "text": [
      "Intervalo de confianza del 95% para la región 0: $-1,335,858.30 dolares - $8,806,768.80 dolares\n",
      "Riesgo de pérdidas para la región 0: 6.4%\n",
      "Intervalo de confianza del 95% para la región 1: $445,079.96 dolares - $8,580,398.28 dolares\n",
      "Riesgo de pérdidas para la región 1: 1.2%\n",
      "Intervalo de confianza del 95% para la región 2:  $-1,421,772.78 dolares - $9,049,861.75 dolares\n",
      "Riesgo de pérdidas para la región 2: 8.3%\n"
     ]
    }
   ],
   "source": [
    "# Analizamos resultados para la región 0\n",
    "lower_bound_0, upper_bound_0, risk_of_loss_0 = analyze_bootstrap_results(profit_distribution_0)\n",
    "\n",
    "print(f'Intervalo de confianza del 95% para la región 0: ${lower_bound_0:,.2f} dolares - ${upper_bound_0:,.2f} dolares')\n",
    "print(f'Riesgo de pérdidas para la región 0: {risk_of_loss_0}%')\n",
    "\n",
    "# Analizamos resultados para la región 1\n",
    "lower_bound_1, upper_bound_1, risk_of_loss_1 = analyze_bootstrap_results(profit_distribution_1)\n",
    "\n",
    "print(f'Intervalo de confianza del 95% para la región 1: ${lower_bound_1:,.2f} dolares - ${upper_bound_1:,.2f} dolares')\n",
    "print(f'Riesgo de pérdidas para la región 1: {risk_of_loss_1}%')\n",
    "\n",
    "# Analizamos resultados para la región 2\n",
    "lower_bound_2, upper_bound_2, risk_of_loss_2 = analyze_bootstrap_results(profit_distribution_2)\n",
    "\n",
    "print(f'Intervalo de confianza del 95% para la región 2:  ${lower_bound_2:,.2f} dolares - ${upper_bound_2:,.2f} dolares')\n",
    "print(f'Riesgo de pérdidas para la región 2: {risk_of_loss_2}%')"
   ]
  },
  {
   "cell_type": "code",
   "execution_count": 43,
   "metadata": {},
   "outputs": [
    {
     "data": {
      "image/png": "[encoded data removed]",
      "text/plain": [
       "<Figure size 1000x600 with 1 Axes>"
      ]
     },
     "metadata": {},
     "output_type": "display_data"
    }
   ],
   "source": [
    "# Datos de ejemplo\n",
    "regions = ['Región 0', 'Región 1', 'Región 2']\n",
    "ci_lower = np.array([lower_bound_0, lower_bound_1, lower_bound_2])\n",
    "ci_upper = np.array([upper_bound_0, upper_bound_1, upper_bound_2])\n",
    "risk = np.array([risk_of_loss_0, risk_of_loss_1, risk_of_loss_2])\n",
    "\n",
    "fig, ax = plt.subplots(figsize=(10, 6))\n",
    "y_pos = np.arange(len(regions))\n",
    "\n",
    "for i in range(len(regions)):\n",
    "    # Dibuja la \"mancuerna\" (línea entre los dos extremos)\n",
    "    ax.plot([ci_lower[i], ci_upper[i]], [y_pos[i], y_pos[i]], color='gray', linewidth=3, zorder=1)\n",
    "    # Dibuja los extremos\n",
    "    ax.scatter(ci_lower[i], y_pos[i], color='blue', s=100, zorder=2, label='Límite inferior' if i == 0 else \"\")\n",
    "    ax.scatter(ci_upper[i], y_pos[i], color='green', s=100, zorder=2, label='Límite superior' if i == 0 else \"\")\n",
    "    # Anota el riesgo de pérdidas en el centro del intervalo\n",
    "    mid = (ci_lower[i] + ci_upper[i]) / 2\n",
    "    ax.text(mid, y_pos[i] + 0.025, f'Riesgo: {risk[i]}%', ha='center', va='bottom', color='red', fontsize=10)\n",
    "    # Opcional: anotar los valores de los extremos\n",
    "    ax.text(ci_lower[i] + 0.1e6, y_pos[i] - 0.05, f'${ci_lower[i]:,.2f}', ha='center', va='top', color='blue', fontsize=8)\n",
    "    ax.text(ci_upper[i] - 0.2e6, y_pos[i] - 0.05, f'${ci_upper[i]:,.2f}', ha='center', va='top', color='green', fontsize=8)\n",
    "\n",
    "ax.set_yticks(y_pos)\n",
    "ax.set_yticklabels(regions)\n",
    "ax.set_xlabel('Beneficio (dólares)')\n",
    "ax.set_title('Dumbbell Plot: Intervalos de Confianza y Riesgo por Región')\n",
    "ax.legend(loc='upper center', bbox_to_anchor=(0.5, -0.1), ncol=2)\n",
    "ax.grid(axis='x', linestyle='--', alpha=0.7)\n",
    "plt.tight_layout()\n",
    "plt.show()\n"
   ]
  },
  {
   "cell_type": "markdown",
   "metadata": {},
   "source": [
    "#### Propondremos una región para el desarrollo de pozos petrolíferos y justifica tu elección."
   ]
  },
  {
   "cell_type": "code",
   "execution_count": 44,
   "metadata": {},
   "outputs": [
    {
     "name": "stdout",
     "output_type": "stream",
     "text": [
      "La mejor región para el desarrollo de pozos petrolíferos según el riesgo es la región 1\n",
      "Reservas totales de la región 1: 27589.08 miles de barriles\n",
      "Beneficio total de la región 1: $124,163,283.30 dólares\n",
      "Ganancia de la región 1: $24,163,283.30 dólares\n"
     ]
    }
   ],
   "source": [
    "# Elegiremos la región con mejores resultados según beneficio y riesgo\n",
    "region_scores = {\n",
    "    0: {'mean_profit': mean_profit_0, 'risk': risk_of_loss_0},\n",
    "    1: {'mean_profit': mean_profit_1, 'risk': risk_of_loss_1},\n",
    "    2: {'mean_profit': mean_profit_2, 'risk': risk_of_loss_2}\n",
    "}\n",
    "\n",
    "# Inicializamos la mejor región\n",
    "best_region = None\n",
    "\n",
    "# Definimos la mejor región considerando el beneficio y el riesgo\n",
    "for region, scores in region_scores.items():\n",
    "    if best_region is None:\n",
    "        best_region = region\n",
    "    else:\n",
    "        if (scores['mean_profit'] > region_scores[best_region]['mean_profit']) or (\n",
    "            scores['mean_profit'] == region_scores[best_region]['mean_profit'] and scores['risk'] <= region_scores[best_region]['risk']):\n",
    "            best_region = region\n",
    "\n",
    "# Resultados\n",
    "print(f\"La mejor región para el desarrollo de pozos petrolíferos según el riesgo es la región {best_region}\")\n",
    "print(f\"Reservas totales de la región {best_region}: {round(resultados.loc[best_region, 'Reserva_Total'], 2)} miles de barriles\")\n",
    "print(f\"Beneficio total de la región {best_region}: ${resultados.loc[best_region, 'Beneficio_Total']:,.2f} dólares\")\n",
    "print(f\"Ganancia de la región {best_region}: ${resultados.loc[best_region, 'Ganancia']:,.2f} dólares\")\n"
   ]
  },
  {
   "cell_type": "markdown",
   "metadata": {},
   "source": [
    "#### Conclusiones:\n",
    "\n",
    "Elegimos el conjunto de datos geo_data_1 ya que es la que nos ofrece:\n",
    "\n",
    "Considerando la variabilidad de los pozos y siendo algo conservadores tenemos lo siguiente:\n",
    "- La region 1 la que nos ofrece muy buenas reservas.\n",
    "- La region 1 la nos ofrece un buen beneficio.\n",
    "- La region 1 buenas ganancias.\n",
    "\n",
    "- Apesar que el modelo de la region 0 tiene el mejor RMSE, osea que el modelo logra predecir con mayor eficacia y mayores reservas, y beneficio, la region 1 es la que desde un punto de vista conservador nos ofrece mejores oportunidades de asegurar un buen retorno de inversion sin perdidas."
   ]
  }
 ],
 "metadata": {
  "kernelspec": {
   "display_name": "envsp11",
   "language": "python",
   "name": "python3"
  },
  "language_info": {
   "codemirror_mode": {
    "name": "ipython",
    "version": 3
   },
   "file_extension": ".py",
   "mimetype": "text/x-python",
   "name": "python",
   "nbconvert_exporter": "python",
   "pygments_lexer": "ipython3",
   "version": "3.12.3"
  }
 },
 "nbformat": 4,
 "nbformat_minor": 2
}
