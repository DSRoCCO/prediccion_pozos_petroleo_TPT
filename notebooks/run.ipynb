{
 "cells": [
  {
   "cell_type": "markdown",
   "metadata": {},
   "source": [
    "### Descripción del proyecto\n",
    "Trabajas en la compañía de extracción de petróleo OilyGiant. Tu tarea es encontrar los mejores lugares donde abrir 200 pozos nuevos de petróleo.\n",
    "\n",
    "Para completar esta tarea, tendrás que realizar los siguientes pasos:\n",
    "\n",
    "Leer los archivos con los parámetros recogidos de pozos petrolíferos en la región seleccionada: calidad de crudo y volumen de reservas.\n",
    "Crear un modelo para predecir el volumen de reservas en pozos nuevos.\n",
    "Elegir los pozos petrolíferos que tienen los valores estimados más altos.\n",
    "Elegir la región con el beneficio total más alto para los pozos petrolíferos seleccionados.\n",
    "Tienes datos sobre muestras de crudo de tres regiones. Ya se conocen los parámetros de cada pozo petrolero de la región. Crea un modelo que ayude a elegir la región con el mayor margen de beneficio. Analiza los beneficios y riesgos potenciales utilizando la técnica bootstrapping.\n",
    "\n",
    "#### Condiciones:\n",
    "Solo se debe usar la regresión lineal para el entrenamiento del modelo.\n",
    "Al explorar la región, se lleva a cabo un estudio de 500 puntos con la selección de los mejores 200 puntos para el cálculo del beneficio.\n",
    "El presupuesto para el desarrollo de 200 pozos petroleros es de 100 millones de dólares.\n",
    "Un barril de materias primas genera 4.5 USD de ingresos. El ingreso de una unidad de producto es de 4500 dólares (el volumen de reservas está expresado en miles de barriles).\n",
    "Después de la evaluación de riesgo, mantén solo las regiones con riesgo de pérdidas inferior al 2.5%. De las que se ajustan a los criterios, se debe seleccionar la región con el beneficio promedio más alto.\n",
    "Los datos son sintéticos: los detalles del contrato y las características del pozo no se publican.\n",
    "\n",
    "#### Descripción de datos\n",
    "Los datos de exploración geológica de las tres regiones se almacenan en archivos:\n",
    "\n",
    "- geo_data_0.csv. Pozo 0\n",
    "- geo_data_1.csv. Pozo 1\n",
    "- geo_data_2.csv. Pozo 2\n",
    "\n",
    "- id — identificador único de pozo de petróleo\n",
    "- f0, f1, f2 — tres características de los puntos (su significado específico no es importante, pero las características en sí son significativas)\n",
    "- product — volumen de reservas en el pozo de petróleo (miles de barriles)."
   ]
  },
  {
   "cell_type": "code",
   "execution_count": 1,
   "metadata": {},
   "outputs": [],
   "source": [
    "# Importación de librerías estándar\n",
    "import numpy as np  \n",
    "import pandas as pd\n",
    "\n",
    "# Importación de bibliotecas para gráficos\n",
    "import matplotlib.pyplot as plt\n",
    "import seaborn as sns\n",
    "\n",
    "# Importación de funciones de scikit-learn\n",
    "from sklearn.model_selection import train_test_split\n",
    "from sklearn.linear_model import LinearRegression\n",
    "from sklearn.metrics import mean_squared_error, r2_score"
   ]
  },
  {
   "cell_type": "markdown",
   "metadata": {},
   "source": [
    "#### Carga de Datos"
   ]
  },
  {
   "cell_type": "code",
   "execution_count": 2,
   "metadata": {},
   "outputs": [],
   "source": [
    "#Cargamos los datos desde los archivos csv\n",
    "geo_data_0 = pd.read_csv('../datasets/geo_data_0.csv')\n",
    "geo_data_1 = pd.read_csv('../datasets/geo_data_1.csv')\n",
    "geo_data_2 = pd.read_csv('../datasets/geo_data_2.csv')"
   ]
  },
  {
   "cell_type": "code",
   "execution_count": 3,
   "metadata": {},
   "outputs": [
    {
     "data": {
      "text/html": [
       "<div>\n",
       "<style scoped>\n",
       "    .dataframe tbody tr th:only-of-type {\n",
       "        vertical-align: middle;\n",
       "    }\n",
       "\n",
       "    .dataframe tbody tr th {\n",
       "        vertical-align: top;\n",
       "    }\n",
       "\n",
       "    .dataframe thead th {\n",
       "        text-align: right;\n",
       "    }\n",
       "</style>\n",
       "<table border=\"1\" class=\"dataframe\">\n",
       "  <thead>\n",
       "    <tr style=\"text-align: right;\">\n",
       "      <th></th>\n",
       "      <th>id</th>\n",
       "      <th>f0</th>\n",
       "      <th>f1</th>\n",
       "      <th>f2</th>\n",
       "      <th>product</th>\n",
       "    </tr>\n",
       "  </thead>\n",
       "  <tbody>\n",
       "    <tr>\n",
       "      <th>34854</th>\n",
       "      <td>U5ZzN</td>\n",
       "      <td>1.758149</td>\n",
       "      <td>0.220938</td>\n",
       "      <td>6.600794</td>\n",
       "      <td>143.606604</td>\n",
       "    </tr>\n",
       "    <tr>\n",
       "      <th>73617</th>\n",
       "      <td>qYyqC</td>\n",
       "      <td>0.544138</td>\n",
       "      <td>-0.052228</td>\n",
       "      <td>-0.614615</td>\n",
       "      <td>53.031179</td>\n",
       "    </tr>\n",
       "    <tr>\n",
       "      <th>29301</th>\n",
       "      <td>StFgk</td>\n",
       "      <td>0.477811</td>\n",
       "      <td>-0.292660</td>\n",
       "      <td>-0.579928</td>\n",
       "      <td>93.656152</td>\n",
       "    </tr>\n",
       "    <tr>\n",
       "      <th>64525</th>\n",
       "      <td>lg6G8</td>\n",
       "      <td>0.668626</td>\n",
       "      <td>0.600554</td>\n",
       "      <td>3.189648</td>\n",
       "      <td>108.249689</td>\n",
       "    </tr>\n",
       "    <tr>\n",
       "      <th>73984</th>\n",
       "      <td>AVF00</td>\n",
       "      <td>1.621188</td>\n",
       "      <td>-0.395716</td>\n",
       "      <td>1.524408</td>\n",
       "      <td>124.357579</td>\n",
       "    </tr>\n",
       "    <tr>\n",
       "      <th>85502</th>\n",
       "      <td>kFynr</td>\n",
       "      <td>1.866551</td>\n",
       "      <td>0.229799</td>\n",
       "      <td>4.028875</td>\n",
       "      <td>86.801597</td>\n",
       "    </tr>\n",
       "    <tr>\n",
       "      <th>9953</th>\n",
       "      <td>jXJRs</td>\n",
       "      <td>0.085700</td>\n",
       "      <td>0.912068</td>\n",
       "      <td>0.713794</td>\n",
       "      <td>6.005448</td>\n",
       "    </tr>\n",
       "    <tr>\n",
       "      <th>81429</th>\n",
       "      <td>iQ7ZT</td>\n",
       "      <td>2.018845</td>\n",
       "      <td>-0.127664</td>\n",
       "      <td>1.481999</td>\n",
       "      <td>51.816266</td>\n",
       "    </tr>\n",
       "    <tr>\n",
       "      <th>1131</th>\n",
       "      <td>uMESl</td>\n",
       "      <td>1.467149</td>\n",
       "      <td>-0.253587</td>\n",
       "      <td>2.921166</td>\n",
       "      <td>169.328547</td>\n",
       "    </tr>\n",
       "    <tr>\n",
       "      <th>84945</th>\n",
       "      <td>A790q</td>\n",
       "      <td>-0.883956</td>\n",
       "      <td>0.427175</td>\n",
       "      <td>0.625809</td>\n",
       "      <td>42.575134</td>\n",
       "    </tr>\n",
       "  </tbody>\n",
       "</table>\n",
       "</div>"
      ],
      "text/plain": [
       "          id        f0        f1        f2     product\n",
       "34854  U5ZzN  1.758149  0.220938  6.600794  143.606604\n",
       "73617  qYyqC  0.544138 -0.052228 -0.614615   53.031179\n",
       "29301  StFgk  0.477811 -0.292660 -0.579928   93.656152\n",
       "64525  lg6G8  0.668626  0.600554  3.189648  108.249689\n",
       "73984  AVF00  1.621188 -0.395716  1.524408  124.357579\n",
       "85502  kFynr  1.866551  0.229799  4.028875   86.801597\n",
       "9953   jXJRs  0.085700  0.912068  0.713794    6.005448\n",
       "81429  iQ7ZT  2.018845 -0.127664  1.481999   51.816266\n",
       "1131   uMESl  1.467149 -0.253587  2.921166  169.328547\n",
       "84945  A790q -0.883956  0.427175  0.625809   42.575134"
      ]
     },
     "execution_count": 3,
     "metadata": {},
     "output_type": "execute_result"
    }
   ],
   "source": [
    "# Revisamos los datos\n",
    "geo_data_0.sample(10)"
   ]
  },
  {
   "cell_type": "code",
   "execution_count": 4,
   "metadata": {},
   "outputs": [
    {
     "name": "stdout",
     "output_type": "stream",
     "text": [
      "<class 'pandas.core.frame.DataFrame'>\n",
      "RangeIndex: 100000 entries, 0 to 99999\n",
      "Data columns (total 5 columns):\n",
      " #   Column   Non-Null Count   Dtype  \n",
      "---  ------   --------------   -----  \n",
      " 0   id       100000 non-null  object \n",
      " 1   f0       100000 non-null  float64\n",
      " 2   f1       100000 non-null  float64\n",
      " 3   f2       100000 non-null  float64\n",
      " 4   product  100000 non-null  float64\n",
      "dtypes: float64(4), object(1)\n",
      "memory usage: 3.8+ MB\n"
     ]
    }
   ],
   "source": [
    "# Revisamos las caracteristicas de los datos\n",
    "geo_data_0.info(show_counts=True)"
   ]
  },
  {
   "cell_type": "code",
   "execution_count": 5,
   "metadata": {},
   "outputs": [
    {
     "data": {
      "text/plain": [
       "False    100000\n",
       "Name: count, dtype: int64"
      ]
     },
     "execution_count": 5,
     "metadata": {},
     "output_type": "execute_result"
    }
   ],
   "source": [
    "# Revisamos si tenemos duplicados\n",
    "geo_data_0.duplicated().value_counts() "
   ]
  },
  {
   "cell_type": "code",
   "execution_count": 6,
   "metadata": {},
   "outputs": [
    {
     "data": {
      "text/html": [
       "<div>\n",
       "<style scoped>\n",
       "    .dataframe tbody tr th:only-of-type {\n",
       "        vertical-align: middle;\n",
       "    }\n",
       "\n",
       "    .dataframe tbody tr th {\n",
       "        vertical-align: top;\n",
       "    }\n",
       "\n",
       "    .dataframe thead th {\n",
       "        text-align: right;\n",
       "    }\n",
       "</style>\n",
       "<table border=\"1\" class=\"dataframe\">\n",
       "  <thead>\n",
       "    <tr style=\"text-align: right;\">\n",
       "      <th></th>\n",
       "      <th>id</th>\n",
       "      <th>f0</th>\n",
       "      <th>f1</th>\n",
       "      <th>f2</th>\n",
       "      <th>product</th>\n",
       "    </tr>\n",
       "  </thead>\n",
       "  <tbody>\n",
       "    <tr>\n",
       "      <th>0</th>\n",
       "      <td>kBEdx</td>\n",
       "      <td>-15.001348</td>\n",
       "      <td>-8.276000</td>\n",
       "      <td>-0.005876</td>\n",
       "      <td>3.179103</td>\n",
       "    </tr>\n",
       "    <tr>\n",
       "      <th>1</th>\n",
       "      <td>62mP7</td>\n",
       "      <td>14.272088</td>\n",
       "      <td>-3.475083</td>\n",
       "      <td>0.999183</td>\n",
       "      <td>26.953261</td>\n",
       "    </tr>\n",
       "    <tr>\n",
       "      <th>2</th>\n",
       "      <td>vyE1P</td>\n",
       "      <td>6.263187</td>\n",
       "      <td>-5.948386</td>\n",
       "      <td>5.001160</td>\n",
       "      <td>134.766305</td>\n",
       "    </tr>\n",
       "    <tr>\n",
       "      <th>3</th>\n",
       "      <td>KcrkZ</td>\n",
       "      <td>-13.081196</td>\n",
       "      <td>-11.506057</td>\n",
       "      <td>4.999415</td>\n",
       "      <td>137.945408</td>\n",
       "    </tr>\n",
       "    <tr>\n",
       "      <th>4</th>\n",
       "      <td>AHL4O</td>\n",
       "      <td>12.702195</td>\n",
       "      <td>-8.147433</td>\n",
       "      <td>5.004363</td>\n",
       "      <td>134.766305</td>\n",
       "    </tr>\n",
       "    <tr>\n",
       "      <th>...</th>\n",
       "      <td>...</td>\n",
       "      <td>...</td>\n",
       "      <td>...</td>\n",
       "      <td>...</td>\n",
       "      <td>...</td>\n",
       "    </tr>\n",
       "    <tr>\n",
       "      <th>99995</th>\n",
       "      <td>QywKC</td>\n",
       "      <td>9.535637</td>\n",
       "      <td>-6.878139</td>\n",
       "      <td>1.998296</td>\n",
       "      <td>53.906522</td>\n",
       "    </tr>\n",
       "    <tr>\n",
       "      <th>99996</th>\n",
       "      <td>ptvty</td>\n",
       "      <td>-10.160631</td>\n",
       "      <td>-12.558096</td>\n",
       "      <td>5.005581</td>\n",
       "      <td>137.945408</td>\n",
       "    </tr>\n",
       "    <tr>\n",
       "      <th>99997</th>\n",
       "      <td>09gWa</td>\n",
       "      <td>-7.378891</td>\n",
       "      <td>-3.084104</td>\n",
       "      <td>4.998651</td>\n",
       "      <td>137.945408</td>\n",
       "    </tr>\n",
       "    <tr>\n",
       "      <th>99998</th>\n",
       "      <td>rqwUm</td>\n",
       "      <td>0.665714</td>\n",
       "      <td>-6.152593</td>\n",
       "      <td>1.000146</td>\n",
       "      <td>30.132364</td>\n",
       "    </tr>\n",
       "    <tr>\n",
       "      <th>99999</th>\n",
       "      <td>relB0</td>\n",
       "      <td>-3.426139</td>\n",
       "      <td>-7.794274</td>\n",
       "      <td>-0.003299</td>\n",
       "      <td>3.179103</td>\n",
       "    </tr>\n",
       "  </tbody>\n",
       "</table>\n",
       "<p>100000 rows × 5 columns</p>\n",
       "</div>"
      ],
      "text/plain": [
       "          id         f0         f1        f2     product\n",
       "0      kBEdx -15.001348  -8.276000 -0.005876    3.179103\n",
       "1      62mP7  14.272088  -3.475083  0.999183   26.953261\n",
       "2      vyE1P   6.263187  -5.948386  5.001160  134.766305\n",
       "3      KcrkZ -13.081196 -11.506057  4.999415  137.945408\n",
       "4      AHL4O  12.702195  -8.147433  5.004363  134.766305\n",
       "...      ...        ...        ...       ...         ...\n",
       "99995  QywKC   9.535637  -6.878139  1.998296   53.906522\n",
       "99996  ptvty -10.160631 -12.558096  5.005581  137.945408\n",
       "99997  09gWa  -7.378891  -3.084104  4.998651  137.945408\n",
       "99998  rqwUm   0.665714  -6.152593  1.000146   30.132364\n",
       "99999  relB0  -3.426139  -7.794274 -0.003299    3.179103\n",
       "\n",
       "[100000 rows x 5 columns]"
      ]
     },
     "execution_count": 6,
     "metadata": {},
     "output_type": "execute_result"
    }
   ],
   "source": [
    "# Revisamos los datos\n",
    "geo_data_1"
   ]
  },
  {
   "cell_type": "code",
   "execution_count": 7,
   "metadata": {},
   "outputs": [
    {
     "name": "stdout",
     "output_type": "stream",
     "text": [
      "<class 'pandas.core.frame.DataFrame'>\n",
      "RangeIndex: 100000 entries, 0 to 99999\n",
      "Data columns (total 5 columns):\n",
      " #   Column   Non-Null Count   Dtype  \n",
      "---  ------   --------------   -----  \n",
      " 0   id       100000 non-null  object \n",
      " 1   f0       100000 non-null  float64\n",
      " 2   f1       100000 non-null  float64\n",
      " 3   f2       100000 non-null  float64\n",
      " 4   product  100000 non-null  float64\n",
      "dtypes: float64(4), object(1)\n",
      "memory usage: 3.8+ MB\n"
     ]
    }
   ],
   "source": [
    "# Revisamos las caracteristicas de los datos\n",
    "geo_data_1.info(show_counts=True)"
   ]
  },
  {
   "cell_type": "code",
   "execution_count": 8,
   "metadata": {},
   "outputs": [
    {
     "data": {
      "text/plain": [
       "False    100000\n",
       "Name: count, dtype: int64"
      ]
     },
     "execution_count": 8,
     "metadata": {},
     "output_type": "execute_result"
    }
   ],
   "source": [
    "# Revisamos si tenemos duplicados\n",
    "geo_data_1.duplicated().value_counts()"
   ]
  },
  {
   "cell_type": "code",
   "execution_count": 9,
   "metadata": {},
   "outputs": [
    {
     "data": {
      "text/html": [
       "<div>\n",
       "<style scoped>\n",
       "    .dataframe tbody tr th:only-of-type {\n",
       "        vertical-align: middle;\n",
       "    }\n",
       "\n",
       "    .dataframe tbody tr th {\n",
       "        vertical-align: top;\n",
       "    }\n",
       "\n",
       "    .dataframe thead th {\n",
       "        text-align: right;\n",
       "    }\n",
       "</style>\n",
       "<table border=\"1\" class=\"dataframe\">\n",
       "  <thead>\n",
       "    <tr style=\"text-align: right;\">\n",
       "      <th></th>\n",
       "      <th>id</th>\n",
       "      <th>f0</th>\n",
       "      <th>f1</th>\n",
       "      <th>f2</th>\n",
       "      <th>product</th>\n",
       "    </tr>\n",
       "  </thead>\n",
       "  <tbody>\n",
       "    <tr>\n",
       "      <th>0</th>\n",
       "      <td>fwXo0</td>\n",
       "      <td>-1.146987</td>\n",
       "      <td>0.963328</td>\n",
       "      <td>-0.828965</td>\n",
       "      <td>27.758673</td>\n",
       "    </tr>\n",
       "    <tr>\n",
       "      <th>1</th>\n",
       "      <td>WJtFt</td>\n",
       "      <td>0.262778</td>\n",
       "      <td>0.269839</td>\n",
       "      <td>-2.530187</td>\n",
       "      <td>56.069697</td>\n",
       "    </tr>\n",
       "    <tr>\n",
       "      <th>2</th>\n",
       "      <td>ovLUW</td>\n",
       "      <td>0.194587</td>\n",
       "      <td>0.289035</td>\n",
       "      <td>-5.586433</td>\n",
       "      <td>62.871910</td>\n",
       "    </tr>\n",
       "    <tr>\n",
       "      <th>3</th>\n",
       "      <td>q6cA6</td>\n",
       "      <td>2.236060</td>\n",
       "      <td>-0.553760</td>\n",
       "      <td>0.930038</td>\n",
       "      <td>114.572842</td>\n",
       "    </tr>\n",
       "    <tr>\n",
       "      <th>4</th>\n",
       "      <td>WPMUX</td>\n",
       "      <td>-0.515993</td>\n",
       "      <td>1.716266</td>\n",
       "      <td>5.899011</td>\n",
       "      <td>149.600746</td>\n",
       "    </tr>\n",
       "    <tr>\n",
       "      <th>...</th>\n",
       "      <td>...</td>\n",
       "      <td>...</td>\n",
       "      <td>...</td>\n",
       "      <td>...</td>\n",
       "      <td>...</td>\n",
       "    </tr>\n",
       "    <tr>\n",
       "      <th>99995</th>\n",
       "      <td>4GxBu</td>\n",
       "      <td>-1.777037</td>\n",
       "      <td>1.125220</td>\n",
       "      <td>6.263374</td>\n",
       "      <td>172.327046</td>\n",
       "    </tr>\n",
       "    <tr>\n",
       "      <th>99996</th>\n",
       "      <td>YKFjq</td>\n",
       "      <td>-1.261523</td>\n",
       "      <td>-0.894828</td>\n",
       "      <td>2.524545</td>\n",
       "      <td>138.748846</td>\n",
       "    </tr>\n",
       "    <tr>\n",
       "      <th>99997</th>\n",
       "      <td>tKPY3</td>\n",
       "      <td>-1.199934</td>\n",
       "      <td>-2.957637</td>\n",
       "      <td>5.219411</td>\n",
       "      <td>157.080080</td>\n",
       "    </tr>\n",
       "    <tr>\n",
       "      <th>99998</th>\n",
       "      <td>nmxp2</td>\n",
       "      <td>-2.419896</td>\n",
       "      <td>2.417221</td>\n",
       "      <td>-5.548444</td>\n",
       "      <td>51.795253</td>\n",
       "    </tr>\n",
       "    <tr>\n",
       "      <th>99999</th>\n",
       "      <td>V9kWn</td>\n",
       "      <td>-2.551421</td>\n",
       "      <td>-2.025625</td>\n",
       "      <td>6.090891</td>\n",
       "      <td>102.775767</td>\n",
       "    </tr>\n",
       "  </tbody>\n",
       "</table>\n",
       "<p>100000 rows × 5 columns</p>\n",
       "</div>"
      ],
      "text/plain": [
       "          id        f0        f1        f2     product\n",
       "0      fwXo0 -1.146987  0.963328 -0.828965   27.758673\n",
       "1      WJtFt  0.262778  0.269839 -2.530187   56.069697\n",
       "2      ovLUW  0.194587  0.289035 -5.586433   62.871910\n",
       "3      q6cA6  2.236060 -0.553760  0.930038  114.572842\n",
       "4      WPMUX -0.515993  1.716266  5.899011  149.600746\n",
       "...      ...       ...       ...       ...         ...\n",
       "99995  4GxBu -1.777037  1.125220  6.263374  172.327046\n",
       "99996  YKFjq -1.261523 -0.894828  2.524545  138.748846\n",
       "99997  tKPY3 -1.199934 -2.957637  5.219411  157.080080\n",
       "99998  nmxp2 -2.419896  2.417221 -5.548444   51.795253\n",
       "99999  V9kWn -2.551421 -2.025625  6.090891  102.775767\n",
       "\n",
       "[100000 rows x 5 columns]"
      ]
     },
     "execution_count": 9,
     "metadata": {},
     "output_type": "execute_result"
    }
   ],
   "source": [
    "# Revisamos los datos\n",
    "geo_data_2"
   ]
  },
  {
   "cell_type": "code",
   "execution_count": 10,
   "metadata": {},
   "outputs": [
    {
     "name": "stdout",
     "output_type": "stream",
     "text": [
      "<class 'pandas.core.frame.DataFrame'>\n",
      "RangeIndex: 100000 entries, 0 to 99999\n",
      "Data columns (total 5 columns):\n",
      " #   Column   Non-Null Count   Dtype  \n",
      "---  ------   --------------   -----  \n",
      " 0   id       100000 non-null  object \n",
      " 1   f0       100000 non-null  float64\n",
      " 2   f1       100000 non-null  float64\n",
      " 3   f2       100000 non-null  float64\n",
      " 4   product  100000 non-null  float64\n",
      "dtypes: float64(4), object(1)\n",
      "memory usage: 3.8+ MB\n"
     ]
    }
   ],
   "source": [
    "# Revisamos las caracteristicas de los datos\n",
    "geo_data_2.info(show_counts=True)"
   ]
  },
  {
   "cell_type": "code",
   "execution_count": 11,
   "metadata": {},
   "outputs": [
    {
     "data": {
      "text/plain": [
       "False    100000\n",
       "Name: count, dtype: int64"
      ]
     },
     "execution_count": 11,
     "metadata": {},
     "output_type": "execute_result"
    }
   ],
   "source": [
    "# Revisamos si tenemos duplicados\n",
    "geo_data_2.duplicated().value_counts()"
   ]
  },
  {
   "cell_type": "markdown",
   "metadata": {},
   "source": [
    "#### A continuacion entrenaremos y probaremos el modelo para cada región en este caso geo_data_0.csv:"
   ]
  },
  {
   "cell_type": "code",
   "execution_count": 12,
   "metadata": {},
   "outputs": [
    {
     "data": {
      "text/html": [
       "<div>\n",
       "<style scoped>\n",
       "    .dataframe tbody tr th:only-of-type {\n",
       "        vertical-align: middle;\n",
       "    }\n",
       "\n",
       "    .dataframe tbody tr th {\n",
       "        vertical-align: top;\n",
       "    }\n",
       "\n",
       "    .dataframe thead th {\n",
       "        text-align: right;\n",
       "    }\n",
       "</style>\n",
       "<table border=\"1\" class=\"dataframe\">\n",
       "  <thead>\n",
       "    <tr style=\"text-align: right;\">\n",
       "      <th></th>\n",
       "      <th>max</th>\n",
       "      <th>min</th>\n",
       "      <th>average</th>\n",
       "    </tr>\n",
       "  </thead>\n",
       "  <tbody>\n",
       "    <tr>\n",
       "      <th>f0</th>\n",
       "      <td>2.362331</td>\n",
       "      <td>-1.408605</td>\n",
       "      <td>0.500419</td>\n",
       "    </tr>\n",
       "    <tr>\n",
       "      <th>f1</th>\n",
       "      <td>1.343769</td>\n",
       "      <td>-0.848218</td>\n",
       "      <td>0.250143</td>\n",
       "    </tr>\n",
       "    <tr>\n",
       "      <th>f2</th>\n",
       "      <td>16.003790</td>\n",
       "      <td>-12.088328</td>\n",
       "      <td>2.502647</td>\n",
       "    </tr>\n",
       "    <tr>\n",
       "      <th>product</th>\n",
       "      <td>185.364347</td>\n",
       "      <td>0.000000</td>\n",
       "      <td>92.500000</td>\n",
       "    </tr>\n",
       "  </tbody>\n",
       "</table>\n",
       "</div>"
      ],
      "text/plain": [
       "                max        min    average\n",
       "f0         2.362331  -1.408605   0.500419\n",
       "f1         1.343769  -0.848218   0.250143\n",
       "f2        16.003790 -12.088328   2.502647\n",
       "product  185.364347   0.000000  92.500000"
      ]
     },
     "execution_count": 12,
     "metadata": {},
     "output_type": "execute_result"
    }
   ],
   "source": [
    "#Valores maximos, minimosy promedio\n",
    "\n",
    "geo_data_0.select_dtypes(float).agg(['max','min','average']).T"
   ]
  },
  {
   "cell_type": "code",
   "execution_count": 13,
   "metadata": {},
   "outputs": [],
   "source": [
    "# Hacemos una funcion para aplicar la matrix de correlaciones con seaborn para ver las relaciones entre las diferentes variables\n",
    "\n",
    "def matrix_corr(data, figsize=(10, 8), cmap='coolwarm', annot=True, fmt='.2f', annot_kws=None):\n",
    "    \"\"\"\n",
    "    Función para mostrar la matriz de correlación de un DataFrame usando Seaborn.\n",
    "    \n",
    "    Parámetros:\n",
    "    - data: pandas DataFrame con las variables a analizar.\n",
    "    - figsize: Tupla que define el tamaño de la figura (ancho, alto). Default es (10, 8).\n",
    "    - cmap: Paleta de colores a usar para el heatmap. Default es 'coolwarm'.\n",
    "    - annot: Si True, se muestran los valores numéricos en cada celda. Default es True.\n",
    "    - fmt: Formato de los valores numéricos en las celdas. Default es '.2f' (dos decimales).\n",
    "    - annot_kws: Diccionario con parámetros adicionales para los textos de las celdas, como el tamaño de la fuente.\n",
    "    \"\"\"\n",
    "    \n",
    "    # Validar que 'data' sea un DataFrame\n",
    "    if not isinstance(data, pd.DataFrame):\n",
    "        raise ValueError(\"El argumento 'data' debe ser un DataFrame de pandas.\")\n",
    "    \n",
    "    # Seleccionar solo columnas numéricas\n",
    "    numeric_data = data.select_dtypes(include=[float, int])\n",
    "    \n",
    "    # Comprobar si hay columnas numéricas\n",
    "    if numeric_data.empty:\n",
    "        raise ValueError(\"El DataFrame no contiene columnas numéricas.\")\n",
    "    \n",
    "    # Crear la figura\n",
    "    plt.figure(figsize=figsize)\n",
    "    \n",
    "    # Graficar la matriz de correlaciones\n",
    "    sns.heatmap(\n",
    "        numeric_data.corr(), \n",
    "        cmap=cmap, \n",
    "        annot=annot, \n",
    "        fmt=fmt,\n",
    "        annot_kws=annot_kws,  # Tamaño y estilo de las anotaciones\n",
    "        xticklabels=numeric_data.columns,\n",
    "        yticklabels=numeric_data.columns,\n",
    "        square=True,  # Asegura que el gráfico sea cuadrado\n",
    "        linewidths=0.5,  # Añadir líneas entre las celdas\n",
    "        cbar_kws={'shrink': 0.8}  # Ajustar tamaño de la barra de color\n",
    "    )\n",
    "    \n",
    "    # Mostrar el gráfico\n",
    "    plt.show()"
   ]
  },
  {
   "cell_type": "code",
   "execution_count": 14,
   "metadata": {},
   "outputs": [
    {
     "data": {
      "image/png": "[encoded data removed]",
      "text/plain": [
       "<Figure size 1000x800 with 2 Axes>"
      ]
     },
     "metadata": {},
     "output_type": "display_data"
    }
   ],
   "source": [
    "# Hacemos una matrix de correlaciones con seaborn para ver las relaciones entre las diferentes variables\n",
    "data_0 = geo_data_0.drop('id',axis=1)\n",
    "matrix_corr(data_0)"
   ]
  },
  {
   "cell_type": "markdown",
   "metadata": {},
   "source": [
    "#### Dividimos los datos en un conjunto de entrenamiento y un conjunto de validación en una proporción de 75:25"
   ]
  },
  {
   "cell_type": "code",
   "execution_count": 15,
   "metadata": {},
   "outputs": [
    {
     "name": "stdout",
     "output_type": "stream",
     "text": [
      "RMSE: 37.76\n",
      "R²: 0.27\n",
      "Volumen medio de reservas predicho: 92.40\n"
     ]
    }
   ],
   "source": [
    "#Caracteristicas y objetivos para cada region\n",
    "\n",
    "# Separamos las características y el objetivo\n",
    "features_0 = data_0.drop('product', axis=1)  # Eliminamos la columna 'product' para obtener las características\n",
    "target_0 = data_0['product']  # La columna 'product' es el objetivo\n",
    "\n",
    "# Dividimos los datos en conjuntos de entrenamiento y validación (75% entrenamiento, 25% validación)\n",
    "features_train_0, features_valid_0, target_train_0, target_valid_0 = train_test_split(\n",
    "    features_0, target_0, test_size=0.25, random_state=42\n",
    ")\n",
    "\n",
    "# Creamos y entrenamos el modelo de regresión lineal\n",
    "model_0 = LinearRegression()\n",
    "model_0.fit(features_train_0, target_train_0)\n",
    "\n",
    "# Realizamos las predicciones sobre el conjunto de validación\n",
    "predicted = model_0.predict(features_valid_0)\n",
    "\n",
    "# Calculamos el RMSE (Root Mean Squared Error)\n",
    "rmse = np.sqrt(mean_squared_error(target_valid_0, predicted))\n",
    "print(f\"RMSE: {rmse:.2f}\")\n",
    "\n",
    "# Calculamos el R² (coeficiente de determinación)\n",
    "r2 = r2_score(target_valid_0, predicted)\n",
    "print(f\"R²: {r2:.2f}\")\n",
    "\n",
    "# Calculamos el volumen medio de reservas predicho\n",
    "volumen_medio_predicho = predicted.mean()\n",
    "print(f'Volumen medio de reservas predicho: {volumen_medio_predicho:.2f}')\n"
   ]
  },
  {
   "cell_type": "markdown",
   "metadata": {},
   "source": [
    "#### Analizamos Resutados"
   ]
  },
  {
   "cell_type": "markdown",
   "metadata": {},
   "source": [
    "Para geo_data_0:\n",
    "- Obtenemos el valor promedio de las prediciones de las reservas,. un 92.4\n",
    "- Obtuvimos un RMSE de 37.75, esto quiere decir que tenemos errores de hasta 37.75 entre los valores reales y los valores pronosticados por el modelo."
   ]
  },
  {
   "cell_type": "markdown",
   "metadata": {},
   "source": [
    "#### A continuacion entrenaremos y probaremos el modelo para cada región en este caso geo_data_1.csv:"
   ]
  },
  {
   "cell_type": "code",
   "execution_count": 16,
   "metadata": {},
   "outputs": [
    {
     "data": {
      "text/html": [
       "<div>\n",
       "<style scoped>\n",
       "    .dataframe tbody tr th:only-of-type {\n",
       "        vertical-align: middle;\n",
       "    }\n",
       "\n",
       "    .dataframe tbody tr th {\n",
       "        vertical-align: top;\n",
       "    }\n",
       "\n",
       "    .dataframe thead th {\n",
       "        text-align: right;\n",
       "    }\n",
       "</style>\n",
       "<table border=\"1\" class=\"dataframe\">\n",
       "  <thead>\n",
       "    <tr style=\"text-align: right;\">\n",
       "      <th></th>\n",
       "      <th>max</th>\n",
       "      <th>min</th>\n",
       "      <th>average</th>\n",
       "    </tr>\n",
       "  </thead>\n",
       "  <tbody>\n",
       "    <tr>\n",
       "      <th>f0</th>\n",
       "      <td>29.421755</td>\n",
       "      <td>-31.609576</td>\n",
       "      <td>1.141296</td>\n",
       "    </tr>\n",
       "    <tr>\n",
       "      <th>f1</th>\n",
       "      <td>18.734063</td>\n",
       "      <td>-26.358598</td>\n",
       "      <td>-4.796579</td>\n",
       "    </tr>\n",
       "    <tr>\n",
       "      <th>f2</th>\n",
       "      <td>5.019721</td>\n",
       "      <td>-0.018144</td>\n",
       "      <td>2.494541</td>\n",
       "    </tr>\n",
       "    <tr>\n",
       "      <th>product</th>\n",
       "      <td>137.945408</td>\n",
       "      <td>0.000000</td>\n",
       "      <td>68.825000</td>\n",
       "    </tr>\n",
       "  </tbody>\n",
       "</table>\n",
       "</div>"
      ],
      "text/plain": [
       "                max        min    average\n",
       "f0        29.421755 -31.609576   1.141296\n",
       "f1        18.734063 -26.358598  -4.796579\n",
       "f2         5.019721  -0.018144   2.494541\n",
       "product  137.945408   0.000000  68.825000"
      ]
     },
     "execution_count": 16,
     "metadata": {},
     "output_type": "execute_result"
    }
   ],
   "source": [
    "#Valores maximos, minimosy promedio\n",
    "\n",
    "geo_data_1.select_dtypes(float).agg(['max','min','average']).T"
   ]
  },
  {
   "cell_type": "code",
   "execution_count": 17,
   "metadata": {},
   "outputs": [
    {
     "data": {
      "image/png": "[encoded data removed]",
      "text/plain": [
       "<Figure size 1000x800 with 2 Axes>"
      ]
     },
     "metadata": {},
     "output_type": "display_data"
    }
   ],
   "source": [
    "# Hacemos una matrix de correlaciones con seaborn para ver las relaciones entre las diferentes variables\n",
    "data_1 = geo_data_1.drop('id', axis=1)\n",
    "matrix_corr(data_1)"
   ]
  },
  {
   "cell_type": "code",
   "execution_count": 18,
   "metadata": {},
   "outputs": [
    {
     "name": "stdout",
     "output_type": "stream",
     "text": [
      "RMSE: 0.89\n",
      "R²: 1.00\n",
      "Volumen medio de reservas predicho: 68.71\n"
     ]
    }
   ],
   "source": [
    "#Caracteristicas y objetivos para cada region\n",
    "\n",
    "# Separamos las características y el objetivo\n",
    "features_1 = data_1.drop('product', axis=1)  # Eliminamos la columna 'product' para obtener las características\n",
    "target_1 = data_1['product']  # La columna 'product' es el objetivo\n",
    "\n",
    "# Dividimos los datos en conjuntos de entrenamiento y validación (75% entrenamiento, 25% validación)\n",
    "features_train_1, features_valid_1, target_train_1, target_valid_1 = train_test_split(\n",
    "    features_1, target_1, test_size=0.25, random_state=42\n",
    ")\n",
    "\n",
    "# Creamos y entrenamos el modelo de regresión lineal\n",
    "model_1 = LinearRegression()\n",
    "model_1.fit(features_train_1, target_train_1)\n",
    "\n",
    "# Realizamos las predicciones sobre el conjunto de validación\n",
    "predicted = model_1.predict(features_valid_1)\n",
    "\n",
    "# Calculamos el RMSE (Root Mean Squared Error)\n",
    "rmse = np.sqrt(mean_squared_error(target_valid_1, predicted))\n",
    "print(f\"RMSE: {rmse:.2f}\")\n",
    "\n",
    "# Calculamos el R² (coeficiente de determinación)\n",
    "r2 = r2_score(target_valid_1, predicted)\n",
    "print(f\"R²: {r2:.2f}\")\n",
    "\n",
    "# Calculamos el volumen medio de reservas predicho\n",
    "volumen_medio_predicho = predicted.mean()\n",
    "print(f'Volumen medio de reservas predicho: {volumen_medio_predicho:.2f}')\n"
   ]
  },
  {
   "cell_type": "markdown",
   "metadata": {},
   "source": [
    "Para geo_data_1\n",
    "- Obtenemos el valor promedio de las prediciones de las reservas, un 68.71\n",
    "- Obtuvimos un RMSE de 0.89, esto quiere decir que tenemos errores de hasta 0.89 entre los valores reales y los valores pronosticados por el modelo. Es un buen valor quiere decir que nuestra prediccion esta muy cerca de los valores reales."
   ]
  },
  {
   "cell_type": "markdown",
   "metadata": {},
   "source": [
    "#### A continuacion entrenaremos y probaremos el modelo para cada región en este caso geo_data_2.csv:"
   ]
  },
  {
   "cell_type": "code",
   "execution_count": 19,
   "metadata": {},
   "outputs": [
    {
     "data": {
      "text/html": [
       "<div>\n",
       "<style scoped>\n",
       "    .dataframe tbody tr th:only-of-type {\n",
       "        vertical-align: middle;\n",
       "    }\n",
       "\n",
       "    .dataframe tbody tr th {\n",
       "        vertical-align: top;\n",
       "    }\n",
       "\n",
       "    .dataframe thead th {\n",
       "        text-align: right;\n",
       "    }\n",
       "</style>\n",
       "<table border=\"1\" class=\"dataframe\">\n",
       "  <thead>\n",
       "    <tr style=\"text-align: right;\">\n",
       "      <th></th>\n",
       "      <th>max</th>\n",
       "      <th>min</th>\n",
       "      <th>average</th>\n",
       "    </tr>\n",
       "  </thead>\n",
       "  <tbody>\n",
       "    <tr>\n",
       "      <th>f0</th>\n",
       "      <td>7.238262</td>\n",
       "      <td>-8.760004</td>\n",
       "      <td>0.002023</td>\n",
       "    </tr>\n",
       "    <tr>\n",
       "      <th>f1</th>\n",
       "      <td>7.844801</td>\n",
       "      <td>-7.084020</td>\n",
       "      <td>-0.002081</td>\n",
       "    </tr>\n",
       "    <tr>\n",
       "      <th>f2</th>\n",
       "      <td>16.739402</td>\n",
       "      <td>-11.970335</td>\n",
       "      <td>2.495128</td>\n",
       "    </tr>\n",
       "    <tr>\n",
       "      <th>product</th>\n",
       "      <td>190.029838</td>\n",
       "      <td>0.000000</td>\n",
       "      <td>95.000000</td>\n",
       "    </tr>\n",
       "  </tbody>\n",
       "</table>\n",
       "</div>"
      ],
      "text/plain": [
       "                max        min    average\n",
       "f0         7.238262  -8.760004   0.002023\n",
       "f1         7.844801  -7.084020  -0.002081\n",
       "f2        16.739402 -11.970335   2.495128\n",
       "product  190.029838   0.000000  95.000000"
      ]
     },
     "execution_count": 19,
     "metadata": {},
     "output_type": "execute_result"
    }
   ],
   "source": [
    "#Valores maximos, minimosy promedio\n",
    "\n",
    "geo_data_2.select_dtypes(float).agg(['max','min','average']).T"
   ]
  },
  {
   "cell_type": "code",
   "execution_count": 20,
   "metadata": {},
   "outputs": [
    {
     "data": {
      "image/png": "[encoded data removed]",
      "text/plain": [
       "<Figure size 1000x800 with 2 Axes>"
      ]
     },
     "metadata": {},
     "output_type": "display_data"
    }
   ],
   "source": [
    "# Hacemos una matrix de correlaciones con seaborn para ver las relaciones entre las diferentes variables\n",
    "data_2 = geo_data_2.drop('id', axis=1)\n",
    "matrix_corr(data_2)"
   ]
  },
  {
   "cell_type": "code",
   "execution_count": 21,
   "metadata": {},
   "outputs": [
    {
     "name": "stdout",
     "output_type": "stream",
     "text": [
      "RMSE: 40.15\n",
      "R²: 0.20\n",
      "Volumen medio de reservas predicho: 94.77\n"
     ]
    }
   ],
   "source": [
    "#Caracteristicas y objetivos para cada region\n",
    "\n",
    "# Separamos las características y el objetivo\n",
    "features_2 = data_2.drop('product', axis=1)  # Eliminamos la columna 'product' para obtener las características\n",
    "target_2 = data_2['product']  # La columna 'product' es el objetivo\n",
    "\n",
    "# Dividimos los datos en conjuntos de entrenamiento y validación (75% entrenamiento, 25% validación)\n",
    "features_train_2, features_valid_2, target_train_2, target_valid_2 = train_test_split(\n",
    "    features_2, target_2, test_size=0.25, random_state=42\n",
    ")\n",
    "\n",
    "# Creamos y entrenamos el modelo de regresión lineal\n",
    "model_2 = LinearRegression()\n",
    "model_2.fit(features_train_2, target_train_2)\n",
    "\n",
    "# Realizamos las predicciones sobre el conjunto de validación\n",
    "predicted = model_2.predict(features_valid_2)\n",
    "\n",
    "# Calculamos el RMSE (Root Mean Squared Error)\n",
    "rmse = np.sqrt(mean_squared_error(target_valid_2, predicted))\n",
    "print(f\"RMSE: {rmse:.2f}\")\n",
    "\n",
    "# Calculamos el R² (coeficiente de determinación)\n",
    "r2 = r2_score(target_valid_2, predicted)\n",
    "print(f\"R²: {r2:.2f}\")\n",
    "\n",
    "# Calculamos el volumen medio de reservas predicho\n",
    "volumen_medio_predicho = predicted.mean()\n",
    "print(f'Volumen medio de reservas predicho: {volumen_medio_predicho:.2f}')\n"
   ]
  },
  {
   "cell_type": "markdown",
   "metadata": {},
   "source": [
    "Para geo_data_2\n",
    "- Obtenemos el valor promedio de las prediciones de las reservas, un 94.77\n",
    "- Obtuvimos un RMSE de 40.15, esto quiere decir que tenemos errores de hasta 40.15 entre los valores reales y los valores pronosticados por el modelo."
   ]
  },
  {
   "cell_type": "markdown",
   "metadata": {},
   "source": [
    "### Cálculo de ganancias:"
   ]
  },
  {
   "cell_type": "code",
   "execution_count": 22,
   "metadata": {},
   "outputs": [],
   "source": [
    "# Calculamos todos los valores pronosticados de features y hacemos dataframe con los valores de target\n",
    "\n",
    "target_predicted_0 = pd.DataFrame({'product_predicted': model_0.predict(features_0), 'product':target_0} )\n",
    "\n",
    "target_predicted_1 = pd.DataFrame({'product_predicted': model_1.predict(features_1), 'product':target_1} )\n",
    "\n",
    "target_predicted_2 = pd.DataFrame({'product_predicted': model_2.predict(features_2), 'product':target_2} )"
   ]
  },
  {
   "cell_type": "markdown",
   "metadata": {},
   "source": [
    "#### Dada la inversión de 100 millones por 200 pozos petrolíferos, de media un pozo petrolífero debe producir al menos un valor de 500,000 dólares en unidades para evitar pérdidas (esto es equivalente a 111.1 unidades). Compararemos esta cantidad con la cantidad media de reservas en cada región. "
   ]
  },
  {
   "cell_type": "code",
   "execution_count": 23,
   "metadata": {},
   "outputs": [],
   "source": [
    "# Datos apartir del glosario\n",
    "investment = 100000000  # 100 millones\n",
    "wells = 200\n",
    "cost_per_well = investment / wells  # Cost_per_unit\n",
    "min_profit_per_well = 111.1  # Valor necesario para evitar pérdidas"
   ]
  },
  {
   "cell_type": "markdown",
   "metadata": {},
   "source": [
    "#### Comentarios sobre el calculo de beneficios\n",
    "- Tenemos los modelos para cada conjunto de datos.\n",
    "- Podemos calcular las reservas, los beneficio y la ganacia para cada uno\n",
    "- Podemos comparar la media de reservas por cada pozo para ver si tendremos perdidas"
   ]
  },
  {
   "cell_type": "markdown",
   "metadata": {},
   "source": [
    "#### Eligimos los 200 pozos con los valores de predicción más altos de cada una de las 3 regiones (es decir, archivos 'csv')."
   ]
  },
  {
   "cell_type": "code",
   "execution_count": 24,
   "metadata": {},
   "outputs": [
    {
     "name": "stdout",
     "output_type": "stream",
     "text": [
      "Maximo : 195.1 miles de barriles y Minimo: 157.18 miles de barriles\n"
     ]
    }
   ],
   "source": [
    "# geo_data_0 calculos valores pronosticados por el modelo\n",
    "# top 200\n",
    "pred_0_top_200 = target_predicted_0.sort_values('product_predicted', ascending=False)[:200]\n",
    "print(f'Maximo : {round(pred_0_top_200['product_predicted'].max(),2)} miles de barriles y Minimo: {round(pred_0_top_200['product_predicted'].min(),2)} miles de barriles')\n"
   ]
  },
  {
   "cell_type": "code",
   "execution_count": 25,
   "metadata": {},
   "outputs": [
    {
     "name": "stdout",
     "output_type": "stream",
     "text": [
      "Maximo : 140.36 miles de barriles y Minimo: 138.9 miles de barriles\n"
     ]
    }
   ],
   "source": [
    "# geo_data_1 calculos valores pronosticados por el modelo\n",
    "# top 200\n",
    "pred_1_top_200 = target_predicted_1.sort_values('product_predicted', ascending=False)[:200]\n",
    "print(f'Maximo : {round(pred_1_top_200['product_predicted'].max(),2)} miles de barriles y Minimo: {round(pred_1_top_200['product_predicted'].min(),2)} miles de barriles')\n"
   ]
  },
  {
   "cell_type": "code",
   "execution_count": 26,
   "metadata": {},
   "outputs": [
    {
     "name": "stdout",
     "output_type": "stream",
     "text": [
      "Maximo : 176.98 miles de barriles y Minimo: 151.42 miles de barriles\n"
     ]
    }
   ],
   "source": [
    "# geo_data_2 calculos valores pronosticados por el modelo\n",
    "# top 200\n",
    "pred_2_top_200 = target_predicted_2.sort_values('product_predicted', ascending=False)[:200]\n",
    "print(f'Maximo : {round(pred_2_top_200['product_predicted'].max(),2)} miles de barriles y Minimo: {round(pred_2_top_200['product_predicted'].min(),2)} miles de barriles')"
   ]
  },
  {
   "cell_type": "markdown",
   "metadata": {},
   "source": [
    "#### 4.2 Resume el volumen objetivo de reservas según dichas predicciones. Almacena las predicciones para los 200 pozos para cada una de las 3 regiones."
   ]
  },
  {
   "cell_type": "code",
   "execution_count": 27,
   "metadata": {},
   "outputs": [],
   "source": [
    "\n",
    "# Función para calcular reservas totales y promedio\n",
    "\n",
    "def calcular_reservas(geo_name, top_200, min_profit_per_well):\n",
    "    \"\"\"\n",
    "    Calcula y muestra las reservas promedio y totales, además de evaluar la ganancia.\n",
    "\n",
    "    Parámetros:\n",
    "    - geo_name (str): Nombre del conjunto de datos o región.\n",
    "    - top_200 (DataFrame): Conjunto de datos con los pozos seleccionados.\n",
    "    - min_profit_per_well (float): Mínimo beneficio por pozo en miles de barriles para evitar pérdidas.\n",
    "\n",
    "    \"\"\"\n",
    "    print(f'Conjunto de datos: {geo_name}')\n",
    "    \n",
    "    # Cálculo de reservas promedio\n",
    "    prom_reserves = top_200['product'].mean()\n",
    "    print(f'Reserva Promedio por Pozo (mínimo: {min_profit_per_well} miles de barriles): {round(prom_reserves, 2)}')\n",
    "    \n",
    "    # Cálculo de reservas totales\n",
    "    total_reserves = top_200['product'].sum()\n",
    "    print(f'Reserva Total: {round(total_reserves, 2)} miles de barriles')"
   ]
  },
  {
   "cell_type": "code",
   "execution_count": 28,
   "metadata": {},
   "outputs": [
    {
     "name": "stdout",
     "output_type": "stream",
     "text": [
      "Conjunto de datos: Geo_data_0\n",
      "Reserva Promedio por Pozo (mínimo: 111.1 miles de barriles): 150.28\n",
      "Reserva Total: 30055.95 miles de barriles\n"
     ]
    }
   ],
   "source": [
    "# Para los pozos de la region geo_data_0:\n",
    "calcular_reservas('Geo_data_0',pred_0_top_200, min_profit_per_well)"
   ]
  },
  {
   "cell_type": "code",
   "execution_count": 29,
   "metadata": {},
   "outputs": [
    {
     "name": "stdout",
     "output_type": "stream",
     "text": [
      "Conjunto de datos: Geo_data_1\n",
      "Reserva Promedio por Pozo (mínimo: 111.1 miles de barriles): 137.95\n",
      "Reserva Total: 27589.08 miles de barriles\n"
     ]
    }
   ],
   "source": [
    "# Para los pozos de la region geo_data_1:\n",
    "calcular_reservas('Geo_data_1',pred_1_top_200, min_profit_per_well)"
   ]
  },
  {
   "cell_type": "code",
   "execution_count": 30,
   "metadata": {},
   "outputs": [
    {
     "name": "stdout",
     "output_type": "stream",
     "text": [
      "Conjunto de datos: Geo_data_2\n",
      "Reserva Promedio por Pozo (mínimo: 111.1 miles de barriles): 139.96\n",
      "Reserva Total: 27991.05 miles de barriles\n"
     ]
    }
   ],
   "source": [
    "# Para los pozos de la region geo_data_2:\n",
    "calcular_reservas('Geo_data_2',pred_2_top_200, min_profit_per_well)"
   ]
  },
  {
   "cell_type": "markdown",
   "metadata": {},
   "source": [
    "#### Calcularemos la ganancia potencial de los 200 pozos principales por región."
   ]
  },
  {
   "cell_type": "code",
   "execution_count": 31,
   "metadata": {},
   "outputs": [
    {
     "name": "stdout",
     "output_type": "stream",
     "text": [
      "Conjunto de datos: Geo Data 0\n",
      "Beneficio Total: $135,265,281.57 dólares\n",
      "Ganancia: $35,265,281.57 dólares\n"
     ]
    }
   ],
   "source": [
    "# Para los pozos de la región geo_data_0:\n",
    "\n",
    "print('Conjunto de datos: Geo Data 0')\n",
    "\n",
    "# Calculamos las reservas totales (en miles de barriles)\n",
    "total_reserves = pred_0_top_200['product'].sum()\n",
    "\n",
    "# Cálculo del beneficio total en dólares\n",
    "# Dato: 111.1 miles de barriles equivale a $500,000 (esto nos da una tasa de conversión).\n",
    "# El cálculo toma el total de las reservas y lo multiplica por la tasa de beneficio por barril.\n",
    "revenue_per_well = cost_per_well / min_profit_per_well  # Cálculo del beneficio por barril\n",
    "revenue = total_reserves * revenue_per_well  # Beneficio total\n",
    "\n",
    "# Mostramos el beneficio total con formato adecuado (con miles de separadores y 2 decimales)\n",
    "print(f'Beneficio Total: ${revenue:,.2f} dólares')\n",
    "\n",
    "# Calculamos la ganancia neta, restando la inversión inicial\n",
    "profit = revenue - investment\n",
    "\n",
    "# Mostramos la ganancia neta con formato adecuado\n",
    "print(f'Ganancia: ${profit:,.2f} dólares')\n",
    "\n",
    "# Almacenamos los resultados en un diccionario para su uso posterior\n",
    "geo_0 = {\n",
    "    'Reserva_Total': total_reserves,  # Reservas totales en miles de barriles\n",
    "    'Beneficio_Total': revenue,  # Beneficio total en dólares\n",
    "    'Ganancia': profit  # Ganancia neta en dólares\n",
    "}"
   ]
  },
  {
   "cell_type": "code",
   "execution_count": 32,
   "metadata": {},
   "outputs": [
    {
     "name": "stdout",
     "output_type": "stream",
     "text": [
      "Conjunto de datos: Geo Data 1\n",
      "Beneficio Total: $124,163,283.30 dólares\n",
      "Ganancia: $24,163,283.30 dólares\n"
     ]
    }
   ],
   "source": [
    "# Para los pozos de la región geo_data_1:\n",
    "\n",
    "print('Conjunto de datos: Geo Data 1')\n",
    "\n",
    "# Calculamos las reservas totales (en miles de barriles)\n",
    "total_reserves = pred_1_top_200['product'].sum()\n",
    "\n",
    "# Cálculo del beneficio total en dólares\n",
    "# Dato: 111.1 miles de barriles equivale a $500,000 (esto nos da una tasa de conversión).\n",
    "# El cálculo toma el total de las reservas y lo multiplica por la tasa de beneficio por barril.\n",
    "revenue_per_well = cost_per_well / min_profit_per_well  # Cálculo del beneficio por barril\n",
    "revenue = total_reserves * revenue_per_well  # Beneficio total\n",
    "\n",
    "# Mostramos el beneficio total con formato adecuado (con miles de separadores y 2 decimales)\n",
    "print(f'Beneficio Total: ${revenue:,.2f} dólares')\n",
    "\n",
    "# Calculamos la ganancia neta, restando la inversión inicial\n",
    "profit = revenue - investment\n",
    "\n",
    "# Mostramos la ganancia neta con formato adecuado\n",
    "print(f'Ganancia: ${profit:,.2f} dólares')\n",
    "\n",
    "# Almacenamos los resultados en un diccionario para su uso posterior\n",
    "geo_1 = {\n",
    "    'Reserva_Total': total_reserves,  # Reservas totales en miles de barriles\n",
    "    'Beneficio_Total': revenue,  # Beneficio total en dólares\n",
    "    'Ganancia': profit  # Ganancia neta en dólares\n",
    "}"
   ]
  },
  {
   "cell_type": "code",
   "execution_count": 33,
   "metadata": {},
   "outputs": [
    {
     "name": "stdout",
     "output_type": "stream",
     "text": [
      "Conjunto de datos: Geo Data 2\n",
      "Beneficio Total: $125,972,337.17 dólares\n",
      "Ganancia: $25,972,337.17 dólares\n"
     ]
    }
   ],
   "source": [
    "# Para los pozos de la región geo_data_2:\n",
    "\n",
    "print('Conjunto de datos: Geo Data 2')\n",
    "\n",
    "# Calculamos las reservas totales (en miles de barriles)\n",
    "total_reserves = pred_2_top_200['product'].sum()\n",
    "\n",
    "# Cálculo del beneficio total en dólares\n",
    "# Dato: 111.1 miles de barriles equivale a $500,000 (esto nos da una tasa de conversión).\n",
    "# El cálculo toma el total de las reservas y lo multiplica por la tasa de beneficio por barril.\n",
    "revenue_per_well = cost_per_well / min_profit_per_well  # Cálculo del beneficio por barril\n",
    "revenue = total_reserves * revenue_per_well  # Beneficio total\n",
    "\n",
    "# Mostrar el beneficio total con formato adecuado (con miles de separadores y 2 decimales)\n",
    "print(f'Beneficio Total: ${revenue:,.2f} dólares')\n",
    "\n",
    "# Calculamos la ganancia neta, restando la inversión inicial\n",
    "profit = revenue - investment\n",
    "\n",
    "# Mostrar la ganancia neta con formato adecuado\n",
    "print(f'Ganancia: ${profit:,.2f} dólares')\n",
    "\n",
    "# Almacenamos los resultados en un diccionario para su uso posterior\n",
    "geo_2 = {\n",
    "    'Reserva_Total': total_reserves,  # Reservas totales en miles de barriles\n",
    "    'Beneficio_Total': revenue,  # Beneficio total en dólares\n",
    "    'Ganancia': profit  # Ganancia neta en dólares\n",
    "}"
   ]
  },
  {
   "cell_type": "code",
   "execution_count": 34,
   "metadata": {},
   "outputs": [
    {
     "name": "stdout",
     "output_type": "stream",
     "text": [
      "     Conjunto  Reserva_Total  Beneficio_Total      Ganancia\n",
      "0  geo_data_0   30055.945566     1.352653e+08  3.526528e+07\n",
      "1  geo_data_1   27589.081548     1.241633e+08  2.416328e+07\n",
      "2  geo_data_2   27991.053319     1.259723e+08  2.597234e+07\n"
     ]
    }
   ],
   "source": [
    "# Creamos el DataFrame a partir de los diccionarios\n",
    "resultados = pd.DataFrame({\n",
    "    'geo_data_0': geo_0,\n",
    "    'geo_data_1': geo_1,\n",
    "    'geo_data_2': geo_2\n",
    "})\n",
    "\n",
    "# Aplicamos Transponer al DataFrame y restablecemos el índice\n",
    "resultados = resultados.T.reset_index().rename(columns={'index': 'Conjunto'})\n",
    "\n",
    "# Mostramos el DataFrame resultante\n",
    "print(resultados)"
   ]
  },
  {
   "cell_type": "code",
   "execution_count": 35,
   "metadata": {},
   "outputs": [
    {
     "data": {
      "text/html": [
       "<div>\n",
       "<style scoped>\n",
       "    .dataframe tbody tr th:only-of-type {\n",
       "        vertical-align: middle;\n",
       "    }\n",
       "\n",
       "    .dataframe tbody tr th {\n",
       "        vertical-align: top;\n",
       "    }\n",
       "\n",
       "    .dataframe thead th {\n",
       "        text-align: right;\n",
       "    }\n",
       "</style>\n",
       "<table border=\"1\" class=\"dataframe\">\n",
       "  <thead>\n",
       "    <tr style=\"text-align: right;\">\n",
       "      <th></th>\n",
       "      <th>Conjunto</th>\n",
       "      <th>Reserva_Total</th>\n",
       "      <th>Beneficio_Total</th>\n",
       "      <th>Ganancia</th>\n",
       "    </tr>\n",
       "  </thead>\n",
       "  <tbody>\n",
       "    <tr>\n",
       "      <th>0</th>\n",
       "      <td>geo_data_0</td>\n",
       "      <td>30055.945566</td>\n",
       "      <td>1.352653e+08</td>\n",
       "      <td>3.526528e+07</td>\n",
       "    </tr>\n",
       "    <tr>\n",
       "      <th>2</th>\n",
       "      <td>geo_data_2</td>\n",
       "      <td>27991.053319</td>\n",
       "      <td>1.259723e+08</td>\n",
       "      <td>2.597234e+07</td>\n",
       "    </tr>\n",
       "    <tr>\n",
       "      <th>1</th>\n",
       "      <td>geo_data_1</td>\n",
       "      <td>27589.081548</td>\n",
       "      <td>1.241633e+08</td>\n",
       "      <td>2.416328e+07</td>\n",
       "    </tr>\n",
       "  </tbody>\n",
       "</table>\n",
       "</div>"
      ],
      "text/plain": [
       "     Conjunto  Reserva_Total  Beneficio_Total      Ganancia\n",
       "0  geo_data_0   30055.945566     1.352653e+08  3.526528e+07\n",
       "2  geo_data_2   27991.053319     1.259723e+08  2.597234e+07\n",
       "1  geo_data_1   27589.081548     1.241633e+08  2.416328e+07"
      ]
     },
     "execution_count": 35,
     "metadata": {},
     "output_type": "execute_result"
    }
   ],
   "source": [
    "#Top Reserva total\n",
    "resultados.sort_values('Reserva_Total', ascending=False)\n",
    "    "
   ]
  },
  {
   "cell_type": "code",
   "execution_count": 36,
   "metadata": {},
   "outputs": [
    {
     "data": {
      "text/html": [
       "<div>\n",
       "<style scoped>\n",
       "    .dataframe tbody tr th:only-of-type {\n",
       "        vertical-align: middle;\n",
       "    }\n",
       "\n",
       "    .dataframe tbody tr th {\n",
       "        vertical-align: top;\n",
       "    }\n",
       "\n",
       "    .dataframe thead th {\n",
       "        text-align: right;\n",
       "    }\n",
       "</style>\n",
       "<table border=\"1\" class=\"dataframe\">\n",
       "  <thead>\n",
       "    <tr style=\"text-align: right;\">\n",
       "      <th></th>\n",
       "      <th>Conjunto</th>\n",
       "      <th>Reserva_Total</th>\n",
       "      <th>Beneficio_Total</th>\n",
       "      <th>Ganancia</th>\n",
       "    </tr>\n",
       "  </thead>\n",
       "  <tbody>\n",
       "    <tr>\n",
       "      <th>0</th>\n",
       "      <td>geo_data_0</td>\n",
       "      <td>30055.945566</td>\n",
       "      <td>1.352653e+08</td>\n",
       "      <td>3.526528e+07</td>\n",
       "    </tr>\n",
       "    <tr>\n",
       "      <th>2</th>\n",
       "      <td>geo_data_2</td>\n",
       "      <td>27991.053319</td>\n",
       "      <td>1.259723e+08</td>\n",
       "      <td>2.597234e+07</td>\n",
       "    </tr>\n",
       "    <tr>\n",
       "      <th>1</th>\n",
       "      <td>geo_data_1</td>\n",
       "      <td>27589.081548</td>\n",
       "      <td>1.241633e+08</td>\n",
       "      <td>2.416328e+07</td>\n",
       "    </tr>\n",
       "  </tbody>\n",
       "</table>\n",
       "</div>"
      ],
      "text/plain": [
       "     Conjunto  Reserva_Total  Beneficio_Total      Ganancia\n",
       "0  geo_data_0   30055.945566     1.352653e+08  3.526528e+07\n",
       "2  geo_data_2   27991.053319     1.259723e+08  2.597234e+07\n",
       "1  geo_data_1   27589.081548     1.241633e+08  2.416328e+07"
      ]
     },
     "execution_count": 36,
     "metadata": {},
     "output_type": "execute_result"
    }
   ],
   "source": [
    "#Top Beneficio total\n",
    "resultados.sort_values('Beneficio_Total', ascending =False)"
   ]
  },
  {
   "cell_type": "code",
   "execution_count": 37,
   "metadata": {},
   "outputs": [
    {
     "data": {
      "text/html": [
       "<div>\n",
       "<style scoped>\n",
       "    .dataframe tbody tr th:only-of-type {\n",
       "        vertical-align: middle;\n",
       "    }\n",
       "\n",
       "    .dataframe tbody tr th {\n",
       "        vertical-align: top;\n",
       "    }\n",
       "\n",
       "    .dataframe thead th {\n",
       "        text-align: right;\n",
       "    }\n",
       "</style>\n",
       "<table border=\"1\" class=\"dataframe\">\n",
       "  <thead>\n",
       "    <tr style=\"text-align: right;\">\n",
       "      <th></th>\n",
       "      <th>Conjunto</th>\n",
       "      <th>Reserva_Total</th>\n",
       "      <th>Beneficio_Total</th>\n",
       "      <th>Ganancia</th>\n",
       "    </tr>\n",
       "  </thead>\n",
       "  <tbody>\n",
       "    <tr>\n",
       "      <th>0</th>\n",
       "      <td>geo_data_0</td>\n",
       "      <td>30055.945566</td>\n",
       "      <td>1.352653e+08</td>\n",
       "      <td>3.526528e+07</td>\n",
       "    </tr>\n",
       "    <tr>\n",
       "      <th>2</th>\n",
       "      <td>geo_data_2</td>\n",
       "      <td>27991.053319</td>\n",
       "      <td>1.259723e+08</td>\n",
       "      <td>2.597234e+07</td>\n",
       "    </tr>\n",
       "    <tr>\n",
       "      <th>1</th>\n",
       "      <td>geo_data_1</td>\n",
       "      <td>27589.081548</td>\n",
       "      <td>1.241633e+08</td>\n",
       "      <td>2.416328e+07</td>\n",
       "    </tr>\n",
       "  </tbody>\n",
       "</table>\n",
       "</div>"
      ],
      "text/plain": [
       "     Conjunto  Reserva_Total  Beneficio_Total      Ganancia\n",
       "0  geo_data_0   30055.945566     1.352653e+08  3.526528e+07\n",
       "2  geo_data_2   27991.053319     1.259723e+08  2.597234e+07\n",
       "1  geo_data_1   27589.081548     1.241633e+08  2.416328e+07"
      ]
     },
     "execution_count": 37,
     "metadata": {},
     "output_type": "execute_result"
    }
   ],
   "source": [
    "#Top Reserva total\n",
    "resultados.sort_values('Ganancia', ascending=False)"
   ]
  },
  {
   "cell_type": "markdown",
   "metadata": {},
   "source": [
    "Conclusiones:\n",
    "- Como podemos ver el conjunto de datos geo_data_0 es la que tiene mayores reservas, mayor beneficio y por consecuencia mayores ganancias. "
   ]
  },
  {
   "cell_type": "markdown",
   "metadata": {},
   "source": [
    "#### Calculo de riesgos y ganancias para cada región:\n",
    "Empleremos la técnica del bootstrapping con 1000 muestras para hallar la distribución de los beneficios."
   ]
  },
  {
   "cell_type": "code",
   "execution_count": 38,
   "metadata": {},
   "outputs": [],
   "source": [
    "def bootstrap_profit(predictions, valids, cost=500000, min_profit_per_well=111.1, n_samples=1000, wells=500, price_per_barrel=4500, initial_investment=100_000_000):\n",
    "    \"\"\"\n",
    "    Calcula la ganancia utilizando bootstrapping a partir de las predicciones de reservas de pozos.\n",
    "\n",
    "    Parámetros:\n",
    "    - predictions (pd.Series): Predicciones de reservas para los pozos (en miles de barriles).\n",
    "    - valids (pd.Series): Reservas reales o validadas (en miles de barriles).\n",
    "    - cost (float): Costo por pozo en dólares (por defecto 500,000).\n",
    "    - min_profit_per_well (float): Mínimo beneficio por pozo en miles de barriles.\n",
    "    - n_samples (int): Número de muestras de bootstrapping a realizar.\n",
    "    - wells (int): Número de pozos a muestrear en cada muestra.\n",
    "    - price_per_barrel (float): Precio por barril (por defecto 4500).\n",
    "    - initial_investment (float): Inversión inicial (por defecto 100 millones).\n",
    "\n",
    "    Retorna:\n",
    "    - mean_profit (float): Ganancia promedio de las muestras de bootstrapping.\n",
    "    - profits (np.array): Array con las ganancias para cada muestra.\n",
    "    \"\"\"\n",
    "    \n",
    "    # Verificar que las entradas sean series de Pandas\n",
    "    if not isinstance(predictions, pd.Series) or not isinstance(valids, pd.Series):\n",
    "        raise ValueError(\"Las predicciones y los valores válidos deben ser Series de Pandas.\")\n",
    "\n",
    "    # Inicializar la lista de beneficios\n",
    "    profits = []\n",
    "\n",
    "    # Realizamos el bootstrapping\n",
    "    for _ in range(n_samples):\n",
    "        # Tomamos una muestra aleatoria de 'wells' pozos con reemplazo, ordenada por las predicciones\n",
    "        sample = predictions.sample(n=wells, replace=True).sort_values(ascending=False)[:200]\n",
    "        \n",
    "        # Calculamos el beneficio, multiplicando por el precio por barril y restando la inversión\n",
    "        revenue = valids.loc[sample.index].sum() * price_per_barrel  # Ingresos de los pozos seleccionados\n",
    "        profit = revenue - initial_investment  # Restamos la inversión inicial\n",
    "        profits.append(profit)  # Añadimos el beneficio a la lista\n",
    "    \n",
    "    # Convertir la lista de ganancias a un array de numpy para facilitar estadísticas adicionales\n",
    "    profits = np.array(profits)\n",
    "\n",
    "    # Calcular la ganancia promedio de todas las muestras\n",
    "    mean_profit = profits.mean()\n",
    "\n",
    "    # Retornamos la ganancia promedio y las ganancias de cada muestra\n",
    "    return mean_profit, profits\n"
   ]
  },
  {
   "cell_type": "code",
   "execution_count": 39,
   "metadata": {},
   "outputs": [
    {
     "name": "stdout",
     "output_type": "stream",
     "text": [
      "Para: geo_data_0\n",
      "Beneficio promedio para la región 0: $4,036,944.61 dolares\n"
     ]
    }
   ],
   "source": [
    "#geo_data_0\n",
    "predicted_valid_0 = pd.DataFrame({'predicted':model_0.predict(features_valid_0),'valid':target_valid_0}) # 25K\n",
    "\n",
    "mean_profit_0, profit_distribution_0 = bootstrap_profit(predicted_valid_0['predicted'], predicted_valid_0['valid'])\n",
    "print('Para: geo_data_0')\n",
    "print(f'Beneficio promedio para la región 0: ${mean_profit_0:,.2f} dolares')"
   ]
  },
  {
   "cell_type": "code",
   "execution_count": 40,
   "metadata": {},
   "outputs": [
    {
     "name": "stdout",
     "output_type": "stream",
     "text": [
      "Para: geo_data_1\n",
      "Beneficio promedio para la región 1: $4,357,128.51 dolares\n"
     ]
    }
   ],
   "source": [
    "#geo_data_1\n",
    "predicted_valid_1 = pd.DataFrame({'predicted':model_1.predict(features_valid_1),'valid':target_valid_1}) # 25K\n",
    "\n",
    "mean_profit_1, profit_distribution_1 = bootstrap_profit(predicted_valid_1['predicted'], predicted_valid_1['valid'])\n",
    "print('Para: geo_data_1')\n",
    "print(f'Beneficio promedio para la región 1: ${mean_profit_1:,.2f} dolares')\n"
   ]
  },
  {
   "cell_type": "code",
   "execution_count": 41,
   "metadata": {},
   "outputs": [
    {
     "name": "stdout",
     "output_type": "stream",
     "text": [
      "Para: geo_data_2\n",
      "Beneficio promedio para la región 2: $3,856,294.68 dolares\n"
     ]
    }
   ],
   "source": [
    "#geo_data_2\n",
    "predicted_valid_2 = pd.DataFrame({'predicted':model_2.predict(features_valid_2),'valid':target_valid_2}) # 25K\n",
    "\n",
    "mean_profit_2, profit_distribution_2 = bootstrap_profit(predicted_valid_2['predicted'], predicted_valid_2['valid'])\n",
    "print('Para: geo_data_2')\n",
    "print(f'Beneficio promedio para la región 2: ${mean_profit_2:,.2f} dolares')"
   ]
  },
  {
   "cell_type": "markdown",
   "metadata": {},
   "source": [
    "##### Buscaremos el beneficio promedio, el intervalo de confianza del 95% y el riesgo de pérdidas. La pérdida es una ganancia negativa, la calcúlaremos como una probabilidad en porcentajes."
   ]
  },
  {
   "cell_type": "code",
   "execution_count": 42,
   "metadata": {},
   "outputs": [],
   "source": [
    "def analyze_bootstrap_results(profit_distribution, confidence_level=95):\n",
    "    # Calcula el intervalo de confianza\n",
    "    lower_bound = np.percentile(profit_distribution, (100 - confidence_level) / 2) # limite inferior [2.5 \n",
    "    upper_bound = np.percentile(profit_distribution, 100 - (100 - confidence_level) / 2) #limite superior  97.5]\n",
    "    \n",
    "    # Calcula la probabilidad de pérdida (ganancias negativas)\n",
    "    risk_of_loss = (profit_distribution < 0).mean() * 100\n",
    "    \n",
    "    # Retorna el intervalo de confianza y el riesgo\n",
    "    return lower_bound, upper_bound, risk_of_loss"
   ]
  },
  {
   "cell_type": "code",
   "execution_count": 43,
   "metadata": {},
   "outputs": [
    {
     "name": "stdout",
     "output_type": "stream",
     "text": [
      "Intervalo de confianza del 95% para la región 0: $-1,226,849.55 dolares - $8,975,344.97 dolares\n",
      "Riesgo de pérdidas para la región 0: 6.6000000000000005%\n"
     ]
    }
   ],
   "source": [
    "# Analizamos resultados para la región 0\n",
    "lower_bound_0, upper_bound_0, risk_of_loss_0 = analyze_bootstrap_results(profit_distribution_0)\n",
    "\n",
    "print(f'Intervalo de confianza del 95% para la región 0: ${lower_bound_0:,.2f} dolares - ${upper_bound_0:,.2f} dolares')\n",
    "print(f'Riesgo de pérdidas para la región 0: {risk_of_loss_0}%')"
   ]
  },
  {
   "cell_type": "code",
   "execution_count": 44,
   "metadata": {},
   "outputs": [
    {
     "name": "stdout",
     "output_type": "stream",
     "text": [
      "Intervalo de confianza del 95% para la región 1: $409,081.80 dolares - $8,565,205.98 dolares\n",
      "Riesgo de pérdidas para la región 1: 1.3%\n"
     ]
    }
   ],
   "source": [
    "# Analizamos resultados para la región 1\n",
    "lower_bound_1, upper_bound_1, risk_of_loss_1 = analyze_bootstrap_results(profit_distribution_1)\n",
    "\n",
    "print(f'Intervalo de confianza del 95% para la región 1: ${lower_bound_1:,.2f} dolares - ${upper_bound_1:,.2f} dolares')\n",
    "print(f'Riesgo de pérdidas para la región 1: {risk_of_loss_1}%')"
   ]
  },
  {
   "cell_type": "code",
   "execution_count": 45,
   "metadata": {},
   "outputs": [
    {
     "name": "stdout",
     "output_type": "stream",
     "text": [
      "Intervalo de confianza del 95% para la región 2:  $-1,137,581.91 dolares - $9,127,531.28 dolares\n",
      "Riesgo de pérdidas para la región 2: 7.000000000000001%\n"
     ]
    }
   ],
   "source": [
    "# Analizamos resultados para la región 2\n",
    "lower_bound_2, upper_bound_2, risk_of_loss_2 = analyze_bootstrap_results(profit_distribution_2)\n",
    "\n",
    "print(f'Intervalo de confianza del 95% para la región 2:  ${lower_bound_2:,.2f} dolares - ${upper_bound_2:,.2f} dolares')\n",
    "print(f'Riesgo de pérdidas para la región 2: {risk_of_loss_2}%')"
   ]
  },
  {
   "cell_type": "markdown",
   "metadata": {},
   "source": [
    "#### Propondremos una región para el desarrollo de pozos petrolíferos y justifica tu elección."
   ]
  },
  {
   "cell_type": "code",
   "execution_count": 46,
   "metadata": {},
   "outputs": [
    {
     "name": "stdout",
     "output_type": "stream",
     "text": [
      "La mejor región para el desarrollo de pozos petrolíferos según el riesgo es la región 1\n",
      "Reservas totales de la región 1: 27589.08 miles de barriles\n",
      "Beneficio total de la región 1: $124,163,283.30 dólares\n",
      "Ganancia de la región 1: $24,163,283.30 dólares\n"
     ]
    }
   ],
   "source": [
    "# Elegiremos la región con mejores resultados según beneficio y riesgo\n",
    "region_scores = {\n",
    "    0: {'mean_profit': mean_profit_0, 'risk': risk_of_loss_0},\n",
    "    1: {'mean_profit': mean_profit_1, 'risk': risk_of_loss_1},\n",
    "    2: {'mean_profit': mean_profit_2, 'risk': risk_of_loss_2}\n",
    "}\n",
    "\n",
    "# Inicializamos la mejor región\n",
    "best_region = None\n",
    "\n",
    "# Definimos la mejor región considerando el beneficio y el riesgo\n",
    "for region, scores in region_scores.items():\n",
    "    if best_region is None:\n",
    "        best_region = region\n",
    "    else:\n",
    "        if (scores['mean_profit'] > region_scores[best_region]['mean_profit']) or (\n",
    "            scores['mean_profit'] == region_scores[best_region]['mean_profit'] and scores['risk'] <= region_scores[best_region]['risk']):\n",
    "            best_region = region\n",
    "\n",
    "# Resultados\n",
    "print(f\"La mejor región para el desarrollo de pozos petrolíferos según el riesgo es la región {best_region}\")\n",
    "print(f\"Reservas totales de la región {best_region}: {round(resultados.loc[best_region, 'Reserva_Total'], 2)} miles de barriles\")\n",
    "print(f\"Beneficio total de la región {best_region}: ${resultados.loc[best_region, 'Beneficio_Total']:,.2f} dólares\")\n",
    "print(f\"Ganancia de la región {best_region}: ${resultados.loc[best_region, 'Ganancia']:,.2f} dólares\")\n"
   ]
  },
  {
   "cell_type": "markdown",
   "metadata": {},
   "source": [
    "#### Conclusiones:\n",
    "\n",
    "Elegimos el conjunto de datos geo_data_1 ya que es la que nos ofrece:\n",
    "\n",
    "Considerando el mejor de los casos tenemos lo siguiente: \n",
    "- La region 0 nos ofrece las mayores reservas de las 3 regiones.\n",
    "- La region 0 nos ofrece las mayor beneficio de las 3 regiones.\n",
    "- La region 0 nos ofrece la mayor ganancia posible de las 3 regiones.\n",
    "\n",
    "Considerando la variabilidad de los pozos (siendo mas conservadores) tenemos lo siguiente:\n",
    "- La region 1 la que nos ofrece muy buenas reservas.\n",
    "- La region 1 la nos ofrece un buen beneficio.\n",
    "- La region 1 buenas ganancias.\n",
    "\n",
    "- Apesar que el modelo de la region 0 tiene el mejor RMSE, osea que el modelo logra predecir con mayor eficacia y mayores reservas, y beneficio, la region 1 es la que desde un punto de vista conservador nos ofrece mejores oportunidades de asegurar un buen retorno de inversion.\n",
    "\n",
    "\n",
    "- Ya que el riesgo es nulo en todos los casos, me iria por la region 0 ya que presenta mayores reservas en general."
   ]
  }
 ],
 "metadata": {
  "kernelspec": {
   "display_name": "envsp11",
   "language": "python",
   "name": "python3"
  },
  "language_info": {
   "codemirror_mode": {
    "name": "ipython",
    "version": 3
   },
   "file_extension": ".py",
   "mimetype": "text/x-python",
   "name": "python",
   "nbconvert_exporter": "python",
   "pygments_lexer": "ipython3",
   "version": "3.12.3"
  }
 },
 "nbformat": 4,
 "nbformat_minor": 2
}
